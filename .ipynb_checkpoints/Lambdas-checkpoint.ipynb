{
 "cells": [
  {
   "cell_type": "code",
   "execution_count": 22,
   "metadata": {},
   "outputs": [
    {
     "name": "stdout",
     "output_type": "stream",
     "text": [
      "This is anonymous  function : 81\n",
      "result of lambda: 81\n",
      "square\n"
     ]
    }
   ],
   "source": [
    "def square(num):\n",
    "    return num * num\n",
    "\n",
    "print(f\"This is anonymous  function : {square(9)}\")\n",
    "\n",
    "result = lambda num: num * num\n",
    "print(f\"result of lambda: {result(9)}\")\n",
    "\n",
    "print(square.__name__)"
   ]
  },
  {
   "cell_type": "code",
   "execution_count": null,
   "metadata": {},
   "outputs": [],
   "source": [
    "# Lambda Syntax\n",
    "# lambda parameters : body of function"
   ]
  },
  {
   "cell_type": "code",
   "execution_count": 19,
   "metadata": {},
   "outputs": [
    {
     "name": "stdout",
     "output_type": "stream",
     "text": [
      "3\n",
      "<lambda>\n"
     ]
    }
   ],
   "source": [
    "add = lambda a, b : a + b\n",
    "\n",
    "print(add(/1,2))\n",
    "\n",
    "print(add.__name__)"
   ]
  },
  {
   "cell_type": "code",
   "execution_count": null,
   "metadata": {},
   "outputs": [],
   "source": [
    "# more examples:"
   ]
  },
  {
   "cell_type": "code",
   "execution_count": 25,
   "metadata": {},
   "outputs": [
    {
     "name": "stdout",
     "output_type": "stream",
     "text": [
      "27\n"
     ]
    }
   ],
   "source": [
    "cube = lambda num : num * num * num\n",
    "\n",
    "print(cube(3))"
   ]
  },
  {
   "cell_type": "code",
   "execution_count": 28,
   "metadata": {},
   "outputs": [
    {
     "name": "stdout",
     "output_type": "stream",
     "text": [
      "64\n"
     ]
    }
   ],
   "source": [
    "cube = lambda num : num ** 3\n",
    "\n",
    "print(cube(4))"
   ]
  },
  {
   "cell_type": "code",
   "execution_count": null,
   "metadata": {},
   "outputs": [],
   "source": [
    "# map\n",
    "\n",
    "# A standard function that accepts at least two arguments, a function and an \"iterable\"\n",
    "\n",
    "# iterable - something that can be iterated over (lists, strings, dictionaries, sets, tuples)\n",
    "\n",
    "# runs the lambda for each value in the iterable and returns a map object which can be converted into another data structure\n",
    "\n",
    "# MAP syntax: \n",
    "\n",
    "# map(lambda operation, iterator)"
   ]
  },
  {
   "cell_type": "code",
   "execution_count": 10,
   "metadata": {},
   "outputs": [
    {
     "name": "stdout",
     "output_type": "stream",
     "text": [
      "[4, 8, 12, 16]\n"
     ]
    }
   ],
   "source": [
    "nums = [2, 4, 6, 8] \n",
    "\n",
    "result = list(map(lambda x : x * 2 , nums ))\n",
    "print(result)"
   ]
  },
  {
   "cell_type": "code",
   "execution_count": 7,
   "metadata": {},
   "outputs": [
    {
     "data": {
      "text/plain": [
       "[2, 4, 6, 8]"
      ]
     },
     "execution_count": 7,
     "metadata": {},
     "output_type": "execute_result"
    }
   ],
   "source": [
    "l = [1, 2, 3, 4]\n",
    "\n",
    "doubles = list(map(lambda x: x * 2, l))\n",
    "\n",
    "doubles # [2, 4, 6, 8]"
   ]
  },
  {
   "cell_type": "code",
   "execution_count": 12,
   "metadata": {},
   "outputs": [
    {
     "name": "stdout",
     "output_type": "stream",
     "text": [
      "['A', 'B', 'C', 'D']\n"
     ]
    }
   ],
   "source": [
    "people = ['A', 'B', 'C', 'D']\n",
    "\n",
    "peeps  = list(map(lambda name : name.upper(), people))\n",
    "\n",
    "print(peeps)"
   ]
  },
  {
   "cell_type": "code",
   "execution_count": null,
   "metadata": {},
   "outputs": [],
   "source": [
    "# more examples :"
   ]
  },
  {
   "cell_type": "code",
   "execution_count": 13,
   "metadata": {},
   "outputs": [
    {
     "name": "stdout",
     "output_type": "stream",
     "text": [
      "[19, 13, 10]\n"
     ]
    }
   ],
   "source": [
    "list1 = [20, 14, 11] \n",
    "\n",
    "decrement_list = list(map(lambda num : num - 1, list1))\n",
    "\n",
    "print(decrement_list)"
   ]
  },
  {
   "cell_type": "code",
   "execution_count": null,
   "metadata": {},
   "outputs": [],
   "source": [
    "# filter\n",
    "\n",
    "# There is a lambda for each value in the iterable.\n",
    "\n",
    "# Returns filter object which can be converted into other iterables\n",
    "\n",
    "# The object contains only the values that return true to the lambda\n",
    "\n",
    "# filter syntax : \n",
    "\n",
    "# filter( predicate logic , iterator )"
   ]
  },
  {
   "cell_type": "code",
   "execution_count": 15,
   "metadata": {},
   "outputs": [
    {
     "name": "stdout",
     "output_type": "stream",
     "text": [
      "[2, 4, 6, 8, 10]\n"
     ]
    }
   ],
   "source": [
    "l1 = [1,2,3,4,5,6,7,8,9,10]\n",
    "\n",
    "evens = list(filter(lambda num : num % 2 == 0, l1))\n",
    "\n",
    "print(evens)"
   ]
  },
  {
   "cell_type": "code",
   "execution_count": 21,
   "metadata": {},
   "outputs": [
    {
     "name": "stdout",
     "output_type": "stream",
     "text": [
      "[{'username': 'Martin', 'tweets': []}, {'username': 'Tom', 'tweets': []}]\n"
     ]
    }
   ],
   "source": [
    "users = [\n",
    "    {'username': 'samuel', 'tweets': [\"I love cakes\", \"I love cats\"]},\n",
    "    {'username': 'Steffy', 'tweets': [\"I love cats\"]},\n",
    "    {'username': 'Jeff', 'tweets': [\"I love rabbits\", \"I love pythons\"]},\n",
    "    {'username': 'Martin', 'tweets': []},\n",
    "    {'username': 'Tom', 'tweets': []}\n",
    "]\n",
    "\n",
    "result = list(filter( lambda elem : len(elem['tweets']) == 0 , users))\n",
    "\n",
    "print(result)  # Inactive users\n"
   ]
  },
  {
   "cell_type": "code",
   "execution_count": null,
   "metadata": {},
   "outputs": [],
   "source": [
    "# Filter + Map"
   ]
  },
  {
   "cell_type": "code",
   "execution_count": 36,
   "metadata": {},
   "outputs": [
    {
     "name": "stdout",
     "output_type": "stream",
     "text": [
      "['Instructor name is Colt', 'Instructor name is Tom', 'Instructor name is Jon']\n"
     ]
    }
   ],
   "source": [
    "names = ['Lassie', 'Colt', 'Rusty', 'Faulknar', 'Tom','Jon']\n",
    "\n",
    "result = list(map(lambda nm : f\"Instructor name is {nm}\" ,\n",
    "             filter(lambda name : len(name) < 5 , names))\n",
    "             )\n",
    "\n",
    "print(result)"
   ]
  },
  {
   "cell_type": "code",
   "execution_count": 41,
   "metadata": {},
   "outputs": [
    {
     "name": "stdout",
     "output_type": "stream",
     "text": [
      "['MARTIN', 'TOM']\n"
     ]
    }
   ],
   "source": [
    "users = [\n",
    "    {'username': 'samuel', 'tweets': [\"I love cakes\", \"I love cats\"]},\n",
    "    {'username': 'Steffy', 'tweets': [\"I love cats\"]},\n",
    "    {'username': 'Jeff', 'tweets': [\"I love rabbits\", \"I love pythons\"]},\n",
    "    {'username': 'Martin', 'tweets': []},\n",
    "    {'username': 'Tom', 'tweets': []}\n",
    "]\n",
    "\n",
    "result = list(map(lambda user : user['username'].upper() ,\n",
    "              filter( lambda elem : len(elem['tweets']) == 0, users)))\n",
    "\n",
    "print(result)  # Inactive user names\n"
   ]
  },
  {
   "cell_type": "code",
   "execution_count": 42,
   "metadata": {},
   "outputs": [
    {
     "data": {
      "text/plain": [
       "[3, 4]"
      ]
     },
     "execution_count": 42,
     "metadata": {},
     "output_type": "execute_result"
    }
   ],
   "source": [
    "def remove_negatives(nums):\n",
    "    return list(filter(lambda l: l >= 0, nums))\n",
    "\n",
    "remove_negatives([-1,3,4,-99])"
   ]
  },
  {
   "cell_type": "code",
   "execution_count": null,
   "metadata": {},
   "outputs": [],
   "source": [
    "# reduce\n",
    "# runs a function of two arguments cumulatively to the items of iterable, from left to right, which reduces the iterable to a single value\n",
    "# reduce or List Comprehension?\n",
    "# YOUR TURN"
   ]
  },
  {
   "cell_type": "code",
   "execution_count": 43,
   "metadata": {},
   "outputs": [
    {
     "name": "stdout",
     "output_type": "stream",
     "text": [
      "True\n"
     ]
    }
   ],
   "source": [
    "str1 = \"I love cakes. I love cats\"\n",
    "\n",
    "print(\"cats\" in str1 )"
   ]
  },
  {
   "cell_type": "code",
   "execution_count": null,
   "metadata": {},
   "outputs": [],
   "source": [
    "# reduce or List Comprehension?\n",
    "# For almost all problems especially at this stage, use list comprehension - you will see it far more in the wild"
   ]
  },
  {
   "cell_type": "code",
   "execution_count": 1,
   "metadata": {},
   "outputs": [
    {
     "name": "stdout",
     "output_type": "stream",
     "text": [
      "24\n"
     ]
    }
   ],
   "source": [
    "from functools import reduce\n",
    "\n",
    "l = [1,2,3,4]\n",
    "\n",
    "product = reduce(lambda x, y: x * y, l)\n",
    "\n",
    "print(product)"
   ]
  },
  {
   "cell_type": "code",
   "execution_count": null,
   "metadata": {},
   "outputs": [],
   "source": [
    "# Built-in fucntion"
   ]
  },
  {
   "cell_type": "code",
   "execution_count": null,
   "metadata": {},
   "outputs": [],
   "source": [
    "# all\n",
    "# Return True if all the elements of the iterable are truthy\n",
    "# or if iterable is empty"
   ]
  },
  {
   "cell_type": "code",
   "execution_count": 4,
   "metadata": {},
   "outputs": [
    {
     "data": {
      "text/plain": [
       "True"
      ]
     },
     "execution_count": 4,
     "metadata": {},
     "output_type": "execute_result"
    }
   ],
   "source": [
    "all([char for char in 'eio' if char in 'aeiou'])"
   ]
  },
  {
   "cell_type": "code",
   "execution_count": 6,
   "metadata": {},
   "outputs": [
    {
     "data": {
      "text/plain": [
       "True"
      ]
     },
     "execution_count": 6,
     "metadata": {},
     "output_type": "execute_result"
    }
   ],
   "source": [
    "all([num for num in [4,2,10,6,8] if num % 2 == 0])"
   ]
  },
  {
   "cell_type": "code",
   "execution_count": 8,
   "metadata": {},
   "outputs": [
    {
     "data": {
      "text/plain": [
       "True"
      ]
     },
     "execution_count": 8,
     "metadata": {},
     "output_type": "execute_result"
    }
   ],
   "source": [
    "people = [\"Charlie\", \"Casey\", \"Carly\", \"Cristina\"]\n",
    "\n",
    "all([name[0]=='C' for name in people])"
   ]
  },
  {
   "cell_type": "code",
   "execution_count": null,
   "metadata": {},
   "outputs": [],
   "source": [
    "# any \n",
    "# Returns true if any element of iterable is truthy.\n",
    "# If the iterable is empty, return false"
   ]
  },
  {
   "cell_type": "code",
   "execution_count": 9,
   "metadata": {},
   "outputs": [
    {
     "data": {
      "text/plain": [
       "True"
      ]
     },
     "execution_count": 9,
     "metadata": {},
     "output_type": "execute_result"
    }
   ],
   "source": [
    "nums = [1, 2, 3, 4, 5, 6]\n",
    "any([num % 2 == 1 for num in nums])"
   ]
  },
  {
   "cell_type": "code",
   "execution_count": null,
   "metadata": {},
   "outputs": [],
   "source": [
    "# generator expressions"
   ]
  },
  {
   "cell_type": "code",
   "execution_count": 10,
   "metadata": {},
   "outputs": [
    {
     "data": {
      "text/plain": [
       "True"
      ]
     },
     "execution_count": 10,
     "metadata": {},
     "output_type": "execute_result"
    }
   ],
   "source": [
    "people = [\"Charlie\", \"Casey\", \"Carly\", \"Cristina\"]\n",
    "\n",
    "all(name[0]=='C' for name in people)"
   ]
  },
  {
   "cell_type": "code",
   "execution_count": 14,
   "metadata": {},
   "outputs": [
    {
     "name": "stdout",
     "output_type": "stream",
     "text": [
      "To do the same things, it takes ..\n",
      "list comprehension: 9024 bytes\n",
      "Generator expresisons: 120 bytes\n"
     ]
    }
   ],
   "source": [
    "import sys\n",
    "list_comp = sys.getsizeof([x * 10 for x in range(1000)])\n",
    "gen_exp = sys.getsizeof(x * 10 for x in range(1000))\n",
    "\n",
    "print(\"To do the same things, it takes ..\")\n",
    "print(f\"list comprehension: {list_comp} bytes\")\n",
    "print(f\"Generator expresisons: {gen_exp} bytes\")"
   ]
  },
  {
   "cell_type": "code",
   "execution_count": null,
   "metadata": {},
   "outputs": [],
   "source": [
    "# sorted \n",
    "# Retruns a new sorted list from the items in iterable"
   ]
  },
  {
   "cell_type": "code",
   "execution_count": 21,
   "metadata": {},
   "outputs": [
    {
     "name": "stdout",
     "output_type": "stream",
     "text": [
      "using function sorted(): [9, 6, 5, 5, 3, 2, 2, 1, 0]\n"
     ]
    },
    {
     "data": {
      "text/plain": [
       "[3, 9, 1, 0, 2, 5, 6, 2, 5]"
      ]
     },
     "execution_count": 21,
     "metadata": {},
     "output_type": "execute_result"
    }
   ],
   "source": [
    "nums = [3,9,1,0,2,5,6,2,5]\n",
    "print(f\"using function sorted(): {sorted(nums, reverse=True)}\")\n",
    "nums"
   ]
  },
  {
   "cell_type": "code",
   "execution_count": 20,
   "metadata": {},
   "outputs": [
    {
     "name": "stdout",
     "output_type": "stream",
     "text": [
      "using function .sort(): None\n"
     ]
    },
    {
     "data": {
      "text/plain": [
       "[0, 1, 2, 2, 3, 5, 5, 6, 9]"
      ]
     },
     "execution_count": 20,
     "metadata": {},
     "output_type": "execute_result"
    }
   ],
   "source": [
    "nums = [3,9,1,0,2,5,6,2,5]\n",
    "\n",
    "print(f\"using function .sort(): {nums.sort()}\")\n",
    "\n",
    "nums"
   ]
  },
  {
   "cell_type": "code",
   "execution_count": 23,
   "metadata": {},
   "outputs": [
    {
     "data": {
      "text/plain": [
       "[{'username': 'Jeff', 'tweets': ['I love rabbits', 'I love pythons']}, {'username': 'Martin', 'tweets': []}, {'username': 'Steffy', 'tweets': ['I love cats']}, {'username': 'Tom', 'tweets': []}, {'username': 'samuel', 'tweets': ['I love cakes', 'I love cats']}]"
      ]
     },
     "execution_count": 23,
     "metadata": {},
     "output_type": "execute_result"
    }
   ],
   "source": [
    "users = [\n",
    "    {'username': 'samuel', 'tweets': [\"I love cakes\", \"I love cats\"]},\n",
    "    {'username': 'Steffy', 'tweets': [\"I love cats\"]},\n",
    "    {'username': 'Jeff', 'tweets': [\"I love rabbits\", \"I love pythons\"]},\n",
    "    {'username': 'Martin', 'tweets': []},\n",
    "    {'username': 'Tom', 'tweets': []}\n",
    "]\n",
    "\n",
    "sorted(users, key = lambda user : user['username'] )\n"
   ]
  },
  {
   "cell_type": "code",
   "execution_count": null,
   "metadata": {},
   "outputs": [],
   "source": [
    "# max\n",
    "# Return the largest item in an iterable or the largest of two or more arguments."
   ]
  },
  {
   "cell_type": "code",
   "execution_count": 24,
   "metadata": {},
   "outputs": [
    {
     "data": {
      "text/plain": [
       "3"
      ]
     },
     "execution_count": 24,
     "metadata": {},
     "output_type": "execute_result"
    }
   ],
   "source": [
    "# max (strings, dicts with same keys)\n",
    "\n",
    "max([3,4,1,2]) # 4\n",
    "max((1,2,3,4)) # 4\n",
    "max('awesome') # 'w'\n",
    "max({1:'a', 3:'c', 2:'b'}) # 3"
   ]
  },
  {
   "cell_type": "code",
   "execution_count": null,
   "metadata": {},
   "outputs": [],
   "source": [
    "# min\n",
    "# Return the smallest item in an iterable or the smallest of two or more arguments."
   ]
  },
  {
   "cell_type": "code",
   "execution_count": 25,
   "metadata": {},
   "outputs": [
    {
     "data": {
      "text/plain": [
       "1"
      ]
     },
     "execution_count": 25,
     "metadata": {},
     "output_type": "execute_result"
    }
   ],
   "source": [
    "# min (strings, dicts with same keys)\n",
    "\n",
    "min([3,4,1,2]) # 1\n",
    "min((1,2,3,4)) # 1\n",
    "min('awesome') # 'a'\n",
    "min({1:'a', 3:'c', 2:'b'}) # 1"
   ]
  },
  {
   "cell_type": "code",
   "execution_count": null,
   "metadata": {},
   "outputs": [],
   "source": [
    "# abs\n",
    "# Return the absolute value of a number. The argument may be an integer or a floating point number."
   ]
  },
  {
   "cell_type": "code",
   "execution_count": 32,
   "metadata": {},
   "outputs": [
    {
     "data": {
      "text/plain": [
       "5"
      ]
     },
     "execution_count": 32,
     "metadata": {},
     "output_type": "execute_result"
    }
   ],
   "source": [
    "abs(-5) # 5\n",
    "abs(5)  # 5"
   ]
  },
  {
   "cell_type": "code",
   "execution_count": 33,
   "metadata": {},
   "outputs": [
    {
     "data": {
      "text/plain": [
       "0"
      ]
     },
     "execution_count": 33,
     "metadata": {},
     "output_type": "execute_result"
    }
   ],
   "source": [
    "# sum\n",
    "sum([1,2,3,4]) # 10\n",
    "\n",
    "sum([1,2,3,4], -10) # 0"
   ]
  },
  {
   "cell_type": "code",
   "execution_count": null,
   "metadata": {},
   "outputs": [],
   "source": [
    "# zip\n",
    "# Make an iterator that aggregates elements from each of the iterables.\n",
    "# Returns an iterator of tuples, where the i-th tuple contains the i-th element from each of the argument sequences or iterables.\n",
    "# The iterator stops when the shortest input iterable is exhausted."
   ]
  },
  {
   "cell_type": "code",
   "execution_count": 34,
   "metadata": {},
   "outputs": [
    {
     "data": {
      "text/plain": [
       "{}"
      ]
     },
     "execution_count": 34,
     "metadata": {},
     "output_type": "execute_result"
    }
   ],
   "source": [
    "first_zip = zip([1,2,3], [4,5,6])\n",
    "\n",
    "list(first_zip) # [(1, 4), (2, 5), (3, 6)]\n",
    "\n",
    "dict(first_zip) # {1: 4, 2: 5, 3: 6}"
   ]
  },
  {
   "cell_type": "code",
   "execution_count": 35,
   "metadata": {},
   "outputs": [
    {
     "data": {
      "text/plain": [
       "[(0, 1, 2, 3, 4), (1, 2, 3, 4, 5)]"
      ]
     },
     "execution_count": 35,
     "metadata": {},
     "output_type": "execute_result"
    }
   ],
   "source": [
    "five_by_two = [(0, 1), (1, 2), (2, 3), (3, 4), (4, 5)]\n",
    "\n",
    "list(zip(*five_by_two))\n",
    "\n",
    "[(0, 1, 2, 3, 4), (1, 2, 3, 4, 5)]"
   ]
  },
  {
   "cell_type": "code",
   "execution_count": 36,
   "metadata": {},
   "outputs": [],
   "source": [
    "midterms = [80,91,78]\n",
    "finals = [98,89,53]\n",
    "students = ['dan', 'ang', 'kate']\n",
    "\n",
    "\n",
    "# returns dict with {student:highest score} USING DICT COMP\n",
    "# {'dan': 98, 'ang': 91, 'kate': 78}\n",
    "final_grades = {t[0]:max(t[1], t[2]) for t in zip(students, midterms, finals)}\n",
    "\n",
    "\n",
    "# returns dict with {student:highest score} (same thing as above) USING MAP+LAMBDA\n",
    "# {'dan': 98, 'ang': 91, 'kate': 78}\n",
    "final_grades = dict(\n",
    "\tzip(\n",
    "\t\tstudents,\n",
    "\t\tmap(\n",
    "\t\t\tlambda pair: max(pair),\n",
    "\t\t\tzip(midterms, finals)\n",
    "\t\t)\n",
    "\t)\n",
    ")\n",
    "\n",
    "# returns dict with student:average score\n",
    "# {'dan': 89.0, 'ang': 90.0, 'kate': 65.5}\n",
    "avg_grades = dict(\n",
    "\tzip(\n",
    "\t\tstudents,\n",
    "\t\tmap(\n",
    "\t\t\tlambda pair: ((pair[0]+pair[1])/2),\n",
    "\t\t\tzip(midterms, finals)\n",
    "\t\t)\n",
    "\t)\n",
    ")\n",
    "\n"
   ]
  }
 ],
 "metadata": {
  "kernelspec": {
   "display_name": "xpython",
   "language": "python",
   "name": "xpython"
  },
  "language_info": {
   "file_extension": ".py",
   "mimetype": "text/x-python",
   "name": "python",
   "version": "3.7.6"
  }
 },
 "nbformat": 4,
 "nbformat_minor": 4
}
