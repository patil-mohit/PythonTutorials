{
 "cells": [
  {
   "cell_type": "code",
   "execution_count": null,
   "metadata": {},
   "outputs": [],
   "source": [
    "# What is a Function?\n",
    "# A process for executing a task\n",
    "# It can accept input and return an output\n",
    "# Useful for executing similar procedures over and over"
   ]
  },
  {
   "cell_type": "code",
   "execution_count": null,
   "metadata": {},
   "outputs": [],
   "source": [
    "# Why Use Functions?\n",
    "# Stay DRY - Don't Repeat Yourself!\n",
    "# Clean up and prevent code duplication\n",
    "# \"Abstract away\" code for other users\n",
    "# Imagine if you had to rewrite the \"print()\" function for every program you wrote"
   ]
  },
  {
   "cell_type": "code",
   "execution_count": null,
   "metadata": {},
   "outputs": [],
   "source": [
    "# Function Structure\n",
    "def name_of_function ():\n",
    "    # block of runnable code"
   ]
  },
  {
   "cell_type": "code",
   "execution_count": 4,
   "metadata": {},
   "outputs": [
    {
     "name": "stdout",
     "output_type": "stream",
     "text": [
      "hii!!!\n"
     ]
    }
   ],
   "source": [
    "def say_hi():\n",
    "    print('hii!!!')\n",
    "    \n",
    "say_hi()    "
   ]
  },
  {
   "cell_type": "code",
   "execution_count": 10,
   "metadata": {},
   "outputs": [
    {
     "name": "stdout",
     "output_type": "stream",
     "text": [
      "None\n"
     ]
    }
   ],
   "source": [
    "def say_hi():\n",
    "    'Hello!'\n",
    "\n",
    "result = say_hi() \n",
    "\n",
    "print(result) # None"
   ]
  },
  {
   "cell_type": "code",
   "execution_count": null,
   "metadata": {},
   "outputs": [],
   "source": [
    "# Returning Values from Functions\n",
    "# Exits the function\n",
    "# Outputs whatever value is placed after the return keyword\n",
    "# Pops the function off of the call stack"
   ]
  },
  {
   "cell_type": "code",
   "execution_count": 11,
   "metadata": {},
   "outputs": [
    {
     "name": "stdout",
     "output_type": "stream",
     "text": [
      "49\n"
     ]
    }
   ],
   "source": [
    "def square_of_num():\n",
    "    return 7 * 7\n",
    "\n",
    "result = square_of_num()\n",
    "print(result)"
   ]
  },
  {
   "cell_type": "code",
   "execution_count": 13,
   "metadata": {},
   "outputs": [
    {
     "name": "stdout",
     "output_type": "stream",
     "text": [
      "Hello!\n"
     ]
    }
   ],
   "source": [
    "def say_hi():\n",
    "    return 'Hello!'\n",
    "    print('I am after return!')\n",
    "    \n",
    "result = say_hi() \n",
    "\n",
    "print(result)"
   ]
  },
  {
   "cell_type": "code",
   "execution_count": 19,
   "metadata": {},
   "outputs": [
    {
     "name": "stdout",
     "output_type": "stream",
     "text": [
      "heads\n"
     ]
    }
   ],
   "source": [
    "from random import random\n",
    "\n",
    "def flip_coin():\n",
    "    r = random()\n",
    "    if r > 0.5:\n",
    "        return 'heads'\n",
    "    else:\n",
    "        return 'tails'\n",
    "\n",
    "print(flip_coin())"
   ]
  },
  {
   "cell_type": "code",
   "execution_count": 21,
   "metadata": {},
   "outputs": [
    {
     "name": "stdout",
     "output_type": "stream",
     "text": [
      "[2, 4, 6, 8, 10, 12, 14, 16, 18, 20, 22, 24, 26, 28, 30, 32, 34, 36, 38, 40, 42, 44, 46, 48, 50]\n"
     ]
    }
   ],
   "source": [
    "def generate_evens():\n",
    "    return [x for x in range(1,51) if x % 2 == 0]\n",
    "\n",
    "res = generate_evens()\n",
    "print(res)"
   ]
  },
  {
   "cell_type": "code",
   "execution_count": 24,
   "metadata": {},
   "outputs": [
    {
     "name": "stdout",
     "output_type": "stream",
     "text": [
      "8100\n"
     ]
    }
   ],
   "source": [
    "# parameters\n",
    "\n",
    "def square_of_num(num):\n",
    "    return num * num\n",
    "\n",
    "result = square_of_num(90)\n",
    "print(result)"
   ]
  },
  {
   "cell_type": "code",
   "execution_count": null,
   "metadata": {},
   "outputs": [],
   "source": [
    "# Parameters vs Arguments\n",
    "# A parameter is a variable in a method definition.\n",
    "# When a method is called, the arguments are the data you pass into the method's parameters.\n",
    "# Parameter is variable in the declaration of function.\n",
    "# Argument is the actual value of this variable that gets passed to function."
   ]
  },
  {
   "cell_type": "code",
   "execution_count": 26,
   "metadata": {},
   "outputs": [
    {
     "name": "stdout",
     "output_type": "stream",
     "text": [
      "2.0\n"
     ]
    }
   ],
   "source": [
    "def divide(num1,num2):\n",
    "    return num2/num1\n",
    "\n",
    "print(divide(2,4))"
   ]
  },
  {
   "cell_type": "code",
   "execution_count": 27,
   "metadata": {},
   "outputs": [
    {
     "name": "stdout",
     "output_type": "stream",
     "text": [
      "GO AWAY!\n"
     ]
    }
   ],
   "source": [
    "def yell(string):\n",
    "    return string.upper()\n",
    "\n",
    "print(yell('go away!'))"
   ]
  },
  {
   "cell_type": "code",
   "execution_count": 31,
   "metadata": {},
   "outputs": [
    {
     "name": "stdout",
     "output_type": "stream",
     "text": [
      "1\n"
     ]
    }
   ],
   "source": [
    "# Common Return Mistakes \n",
    "# 1. Returning too early in a loop\n",
    "\n",
    "def sum_odd_numbers(numbers):\n",
    "    total = 0\n",
    "    for num in numbers:\n",
    "        if num % 2 != 0:\n",
    "            total += num\n",
    "        return total\n",
    "\n",
    "res = sum_odd_numbers([x for x in range(1,8)])\n",
    "print(res)"
   ]
  },
  {
   "cell_type": "code",
   "execution_count": 30,
   "metadata": {},
   "outputs": [
    {
     "name": "stdout",
     "output_type": "stream",
     "text": [
      "16\n"
     ]
    }
   ],
   "source": [
    "def sum_odd_numbers(numbers):\n",
    "    total = 0\n",
    "    for num in numbers:\n",
    "        if num % 2 != 0:\n",
    "            total += num\n",
    "    return total\n",
    "\n",
    "res = sum_odd_numbers([x for x in range(1,8)])\n",
    "print(res)"
   ]
  },
  {
   "cell_type": "code",
   "execution_count": 33,
   "metadata": {},
   "outputs": [
    {
     "name": "stdout",
     "output_type": "stream",
     "text": [
      "True\n"
     ]
    }
   ],
   "source": [
    "# 2. Unnecessary else\n",
    "\n",
    "def is_odd_number(num):\n",
    "    if num % 2 != 0:\n",
    "        return True\n",
    "    else:\n",
    "        return False\n",
    "\n",
    "res = is_odd_number(7)\n",
    "print(res)"
   ]
  },
  {
   "cell_type": "code",
   "execution_count": 34,
   "metadata": {},
   "outputs": [
    {
     "name": "stdout",
     "output_type": "stream",
     "text": [
      "True\n"
     ]
    }
   ],
   "source": [
    "def is_odd_number(num):\n",
    "    if num % 2 != 0:\n",
    "        return True\n",
    "    return False\n",
    "\n",
    "res = is_odd_number(7)\n",
    "print(res)"
   ]
  },
  {
   "cell_type": "code",
   "execution_count": 37,
   "metadata": {},
   "outputs": [
    {
     "name": "stdout",
     "output_type": "stream",
     "text": [
      "1\n"
     ]
    }
   ],
   "source": [
    "def count_dollar_signs(word):\n",
    "    count = 0\n",
    "    for char in word:\n",
    "        if char == '$':\n",
    "            count += 1\n",
    "        return count\n",
    "\n",
    "result = count_dollar_signs('$ize $mall')\n",
    "print(result)"
   ]
  },
  {
   "cell_type": "code",
   "execution_count": 38,
   "metadata": {},
   "outputs": [
    {
     "name": "stdout",
     "output_type": "stream",
     "text": [
      "2\n"
     ]
    }
   ],
   "source": [
    "def count_dollar_signs(word):\n",
    "    count = 0\n",
    "    for char in word:\n",
    "        if char == '$':\n",
    "            count += 1\n",
    "    return count\n",
    "\n",
    "result = count_dollar_signs('$ize $mall')\n",
    "print(result)"
   ]
  },
  {
   "cell_type": "code",
   "execution_count": 43,
   "metadata": {},
   "outputs": [
    {
     "name": "stdout",
     "output_type": "stream",
     "text": [
      "8\n"
     ]
    }
   ],
   "source": [
    "def exponent(num, power):\n",
    "    return num ** power\n",
    "\n",
    "print(exponent(2,3)) # 8\n",
    "#print(exponent(2)) # TypeError: exponent() missing 1 required positional argument: 'power'"
   ]
  },
  {
   "cell_type": "code",
   "execution_count": 44,
   "metadata": {},
   "outputs": [
    {
     "name": "stdout",
     "output_type": "stream",
     "text": [
      "8\n",
      "4\n"
     ]
    }
   ],
   "source": [
    "def exponent(num, power = 2):\n",
    "    return num ** power\n",
    "\n",
    "print(exponent(2,3)) # 8\n",
    "print(exponent(2))"
   ]
  },
  {
   "cell_type": "code",
   "execution_count": null,
   "metadata": {},
   "outputs": [],
   "source": [
    "# Why have Default Params?\n",
    "\n",
    "# Allows you to be more defensive\n",
    "\n",
    "# Avoids errors with incorrect parameters\n",
    "\n",
    "# More readable examples!"
   ]
  },
  {
   "cell_type": "code",
   "execution_count": 2,
   "metadata": {},
   "outputs": [
    {
     "data": {
      "text/plain": [
       "0"
      ]
     },
     "execution_count": 2,
     "metadata": {},
     "output_type": "execute_result"
    }
   ],
   "source": [
    "# What can Default Parameters be?\n",
    "# Anything! Functions, lists, dictionaries, strings, booleans - all of the above!\n",
    "\n",
    "def add(a,b):\n",
    "    return a+b\n",
    "\n",
    "def math(a,b, fn=add):\n",
    "    return fn(a,b)\n",
    "\n",
    "def subtract(a,b):\n",
    "    return a-b\n",
    "\n",
    "math(2,2) # 4\n",
    "\n",
    "math(2,2, subtract) # 0 \n"
   ]
  },
  {
   "cell_type": "code",
   "execution_count": null,
   "metadata": {},
   "outputs": [],
   "source": [
    "# KEYWORd ARGUMENT"
   ]
  },
  {
   "cell_type": "code",
   "execution_count": 5,
   "metadata": {},
   "outputs": [
    {
     "data": {
      "text/plain": [
       "'Your name is Mohit Patil'"
      ]
     },
     "execution_count": 5,
     "metadata": {},
     "output_type": "execute_result"
    }
   ],
   "source": [
    "def full_name(first, last):\n",
    "    return f\"Your name is {first} {last}\"\n",
    "\n",
    "full_name(first='Mohit', last='Patil')\n",
    "\n",
    "full_name(last='Patil', first='Mohit') # order doesn't matters"
   ]
  },
  {
   "cell_type": "code",
   "execution_count": null,
   "metadata": {},
   "outputs": [],
   "source": [
    "# SCOPE\n",
    "# variables created in function are scoped in that function"
   ]
  },
  {
   "cell_type": "code",
   "execution_count": 13,
   "metadata": {},
   "outputs": [
    {
     "data": {
      "text/plain": [
       "'Hello Colt'"
      ]
     },
     "execution_count": 13,
     "metadata": {},
     "output_type": "execute_result"
    }
   ],
   "source": [
    "def say_hello():\n",
    "    instructor2 = 'Colt'\n",
    "    return f\"Hello {instructor}\"\n",
    "\n",
    "say_hello()\n",
    "\n",
    "# print(instructor2) # Out of scope"
   ]
  },
  {
   "cell_type": "code",
   "execution_count": 17,
   "metadata": {},
   "outputs": [
    {
     "data": {
      "text/plain": [
       "1"
      ]
     },
     "execution_count": 17,
     "metadata": {},
     "output_type": "execute_result"
    }
   ],
   "source": [
    "total = 0\n",
    "\n",
    "def increment():\n",
    "    global total\n",
    "    total += 1\n",
    "    return total\n",
    "\n",
    "increment()"
   ]
  },
  {
   "cell_type": "code",
   "execution_count": null,
   "metadata": {},
   "outputs": [],
   "source": [
    "# Documenting functions\n",
    "# Use  \"\"\" \"\"\""
   ]
  },
  {
   "cell_type": "code",
   "execution_count": null,
   "metadata": {},
   "outputs": [],
   "source": [
    "# RECAP\n",
    "# functions are the procedures for execting code.They accept input and retunr outputs when return keyword is used\n",
    "# to create inputs, we make parameters which can have default values, we call those default parameters \n",
    "# when invoking the function argumrnt sequence can be in any order"
   ]
  },
  {
   "cell_type": "code",
   "execution_count": 7,
   "metadata": {},
   "outputs": [
    {
     "data": {
      "text/plain": [
       "'Numbers are equal!'"
      ]
     },
     "execution_count": 7,
     "metadata": {},
     "output_type": "execute_result"
    }
   ],
   "source": [
    "def number_compare(first, second):\n",
    "    if first > second:\n",
    "        return \"First is greater!\"\n",
    "    elif first < second:\n",
    "        return \"Second is greater!\"\n",
    "    else:\n",
    "        return \"Numbers are equal!\"\n",
    "\n",
    "number_compare(9,0)\n",
    "\n",
    "number_compare(0,9)\n",
    "\n",
    "number_compare(9, 9)\n",
    "        "
   ]
  },
  {
   "cell_type": "code",
   "execution_count": 31,
   "metadata": {},
   "outputs": [
    {
     "name": "stdout",
     "output_type": "stream",
     "text": [
      "3\n"
     ]
    }
   ],
   "source": [
    "def single_letter_count(word, letter):\n",
    "    count = 0\n",
    "    for index in word.upper():\n",
    "        if index == letter.upper():\n",
    "            count += 1\n",
    "    print(count)\n",
    "        \n",
    "single_letter_count(\"Hello World\",\"l\") "
   ]
  },
  {
   "cell_type": "code",
   "execution_count": 30,
   "metadata": {},
   "outputs": [
    {
     "data": {
      "text/plain": [
       "3"
      ]
     },
     "execution_count": 30,
     "metadata": {},
     "output_type": "execute_result"
    }
   ],
   "source": [
    "def single_letter_count(word, letter):\n",
    "    return word.lower().count(letter.lower())\n",
    "\n",
    "single_letter_count(\"Hello World\",\"l\") "
   ]
  },
  {
   "cell_type": "code",
   "execution_count": 39,
   "metadata": {},
   "outputs": [
    {
     "data": {
      "text/plain": [
       "{'a': 1, 'w': 1, 'e': 2, 's': 1, 'o': 1, 'm': 1}"
      ]
     },
     "execution_count": 39,
     "metadata": {},
     "output_type": "execute_result"
    }
   ],
   "source": [
    "def multiple_letter_count(string):\n",
    "    return {string[indx]:string.count(string[indx]) for indx in range(0, len(string))} \n",
    "\n",
    "multiple_letter_count('awesome')\n",
    "    "
   ]
  },
  {
   "cell_type": "code",
   "execution_count": 43,
   "metadata": {},
   "outputs": [
    {
     "data": {
      "text/plain": [
       "3"
      ]
     },
     "execution_count": 43,
     "metadata": {},
     "output_type": "execute_result"
    }
   ],
   "source": [
    "def list_manipulation(alist, command, location, value=None):\n",
    "    if(command == \"remove\" and location == \"end\"):\n",
    "        return alist.pop()\n",
    "    \n",
    "list_manipulation([1,2,3], \"remove\", \"end\")        \n",
    "    "
   ]
  },
  {
   "cell_type": "code",
   "execution_count": 1,
   "metadata": {},
   "outputs": [
    {
     "data": {
      "text/plain": [
       "True"
      ]
     },
     "execution_count": 1,
     "metadata": {},
     "output_type": "execute_result"
    }
   ],
   "source": [
    "def is_palindrome(string):\n",
    "    if string == string[::-1]:\n",
    "        return True\n",
    "    return False\n",
    "\n",
    "is_palindrome('madam')\n",
    "    "
   ]
  },
  {
   "cell_type": "code",
   "execution_count": 4,
   "metadata": {},
   "outputs": [
    {
     "data": {
      "text/plain": [
       "True"
      ]
     },
     "execution_count": 4,
     "metadata": {},
     "output_type": "execute_result"
    }
   ],
   "source": [
    "def is_palindrome(string):\n",
    "    stripped = string.replace(\" \", \"\")\n",
    "    return stripped == stripped[::-1]\n",
    "\n",
    "is_palindrome('amanapl anac analpanama')"
   ]
  },
  {
   "cell_type": "code",
   "execution_count": 2,
   "metadata": {},
   "outputs": [
    {
     "data": {
      "text/plain": [
       "7"
      ]
     },
     "execution_count": 2,
     "metadata": {},
     "output_type": "execute_result"
    }
   ],
   "source": [
    "def frequency(collection, searchTerm):\n",
    "    return collection.count(searchTerm)\n",
    "\n",
    "frequency([1,2,3,3,4,4,4,4,4,4,4],4)"
   ]
  },
  {
   "cell_type": "code",
   "execution_count": 3,
   "metadata": {},
   "outputs": [
    {
     "data": {
      "text/plain": [
       "48"
      ]
     },
     "execution_count": 3,
     "metadata": {},
     "output_type": "execute_result"
    }
   ],
   "source": [
    "def multiply_even_numbers(lst):\n",
    "    total = 1\n",
    "    for val in lst:\n",
    "        if val % 2 == 0:\n",
    "            total = total * val\n",
    "    return total\n",
    "\n",
    "multiply_even_numbers([1,2,3,4,5,6])"
   ]
  },
  {
   "cell_type": "code",
   "execution_count": 4,
   "metadata": {},
   "outputs": [
    {
     "data": {
      "text/plain": [
       "'Mohit'"
      ]
     },
     "execution_count": 4,
     "metadata": {},
     "output_type": "execute_result"
    }
   ],
   "source": [
    "def capitalize(string):\n",
    "    return string[:1].upper() + string[1:]\n",
    "\n",
    "capitalize('mohit')"
   ]
  },
  {
   "cell_type": "code",
   "execution_count": null,
   "metadata": {},
   "outputs": [],
   "source": [
    "# **args vs *arg"
   ]
  },
  {
   "cell_type": "code",
   "execution_count": null,
   "metadata": {},
   "outputs": [],
   "source": [
    "# *args\n",
    "# A special operator we can pass to functions\n",
    "# Gathers remaining arguments as a tuple\n",
    "# This is just a parameter - you can call it whatever you want!"
   ]
  },
  {
   "cell_type": "code",
   "execution_count": 9,
   "metadata": {},
   "outputs": [
    {
     "name": "stdout",
     "output_type": "stream",
     "text": [
      "6\n"
     ]
    }
   ],
   "source": [
    "def sum(*arg):\n",
    "    result = 0\n",
    "    for num in arg:\n",
    "        result += num\n",
    "    return result\n",
    "\n",
    "print(sum(1,2,1,1,1))"
   ]
  },
  {
   "cell_type": "code",
   "execution_count": 18,
   "metadata": {},
   "outputs": [
    {
     "data": {
      "text/plain": [
       "True"
      ]
     },
     "execution_count": 18,
     "metadata": {},
     "output_type": "execute_result"
    }
   ],
   "source": [
    "def contains_purple(*args):\n",
    "    for val in args:\n",
    "        if val == 'purple':\n",
    "            return True\n",
    "    return False\n",
    "    \n",
    "contains_purple(1,'orange','banana','purple')    \n",
    "    "
   ]
  },
  {
   "cell_type": "code",
   "execution_count": 21,
   "metadata": {},
   "outputs": [
    {
     "data": {
      "text/plain": [
       "True"
      ]
     },
     "execution_count": 21,
     "metadata": {},
     "output_type": "execute_result"
    }
   ],
   "source": [
    "def conatins_purple(*args):\n",
    "    if 'purple' in args:\n",
    "        return True\n",
    "    return False\n",
    "  \n",
    "contains_purple(1,'orange','banana','purple')    "
   ]
  },
  {
   "cell_type": "code",
   "execution_count": 23,
   "metadata": {},
   "outputs": [
    {
     "data": {
      "text/plain": [
       "True"
      ]
     },
     "execution_count": 23,
     "metadata": {},
     "output_type": "execute_result"
    }
   ],
   "source": [
    "def conatins_purple(*args):\n",
    "    if 'purple' in args: return True\n",
    "    return False\n",
    "  \n",
    "contains_purple(1,'orange','banana','purple')  "
   ]
  },
  {
   "cell_type": "code",
   "execution_count": null,
   "metadata": {},
   "outputs": [],
   "source": [
    "# **kwargs"
   ]
  },
  {
   "cell_type": "code",
   "execution_count": null,
   "metadata": {},
   "outputs": [],
   "source": [
    "# **kwargs\n",
    "# A special operator we can pass to functions\n",
    "\n",
    "# Gathers remaining keyword arguments as a dictionary\n",
    "\n",
    "# This is just a parameter - you can call it whatever you want!"
   ]
  },
  {
   "cell_type": "code",
   "execution_count": 24,
   "metadata": {},
   "outputs": [
    {
     "name": "stdout",
     "output_type": "stream",
     "text": [
      "{'colt': 'purple', 'harry': 'red'}\n"
     ]
    }
   ],
   "source": [
    "def colour_matching(**kwargs):\n",
    "    return print(kwargs)\n",
    "\n",
    "colour_matching(colt=\"purple\", harry=\"red\")"
   ]
  },
  {
   "cell_type": "code",
   "execution_count": 29,
   "metadata": {},
   "outputs": [
    {
     "data": {
      "text/plain": [
       "'match not found'"
      ]
     },
     "execution_count": 29,
     "metadata": {},
     "output_type": "execute_result"
    }
   ],
   "source": [
    "def colour_matching(**kwargs):\n",
    "    if \"harry\" in kwargs:\n",
    "        return \"red\"  \n",
    "    return \"match not found\"\n",
    "    \n",
    "colour_matching(colt=\"purple\", larry=\"red\")\n",
    " "
   ]
  },
  {
   "cell_type": "code",
   "execution_count": 35,
   "metadata": {},
   "outputs": [
    {
     "data": {
      "text/plain": [
       "'larry loves red !'"
      ]
     },
     "execution_count": 35,
     "metadata": {},
     "output_type": "execute_result"
    }
   ],
   "source": [
    "def colour_matching(**kwargs):\n",
    "    for key,value in kwargs.items():\n",
    "        if value == \"red\":\n",
    "            return f\"{key} loves red !\"\n",
    "    return \"nobody loves red !\"    \n",
    "    \n",
    "colour_matching(colt=\"purple\", larry=\"red\", garry = \"red\", harry = \"red\")\n",
    " "
   ]
  },
  {
   "cell_type": "code",
   "execution_count": 74,
   "metadata": {},
   "outputs": [
    {
     "data": {
      "text/plain": [
       "'work from  '"
      ]
     },
     "execution_count": 74,
     "metadata": {},
     "output_type": "execute_result"
    }
   ],
   "source": [
    "def combine_words(word,**kwargs):\n",
    "    if 'prefix' in kwargs:\n",
    "        return kwargs['prefix'] + word\n",
    "    elif 'suffix' in kwargs:\n",
    "        return word + kwargs['suffix']\n",
    "    return word\n",
    "\n",
    "combine_words(word='from  ', suffix='home',  prefix= 'work ')"
   ]
  },
  {
   "cell_type": "code",
   "execution_count": null,
   "metadata": {},
   "outputs": [],
   "source": [
    "# Parameter Ordering\n",
    "# parameters\n",
    "# *args\n",
    "# default parameters\n",
    "# **kwargs"
   ]
  },
  {
   "cell_type": "code",
   "execution_count": 75,
   "metadata": {},
   "outputs": [
    {
     "data": {
      "text/plain": [
       "[1, 2, (3,), 'Colt', {'job': 'Instructor', 'last_name': 'Steele'}]"
      ]
     },
     "execution_count": 75,
     "metadata": {},
     "output_type": "execute_result"
    }
   ],
   "source": [
    "def display_info(a, b, *args, instructor=\"Colt\", **kwargs):\n",
    "      return [a, b, args, instructor, kwargs]\n",
    "\n",
    "display_info(1, 2, 3, last_name=\"Steele\", job=\"Instructor\")\n",
    "\n",
    "[1, 2, (3,), 'Colt', {'job': 'Instructor', 'last_name': 'Steele'}]"
   ]
  },
  {
   "cell_type": "code",
   "execution_count": null,
   "metadata": {},
   "outputs": [],
   "source": [
    "# List unpacking\n",
    "# Use * as an argument to a funtion to unpack"
   ]
  },
  {
   "cell_type": "code",
   "execution_count": 7,
   "metadata": {},
   "outputs": [
    {
     "name": "stdout",
     "output_type": "stream",
     "text": [
      "(1, 2, 3, 4, 5, 6)\n",
      "21\n"
     ]
    }
   ],
   "source": [
    "def sum_all_values(*args):\n",
    "    print(args)\n",
    "    total = 0\n",
    "    for num in args:\n",
    "        total += num\n",
    "    print(total) \n",
    "    \n",
    "#sum_all_values(1,2,3,4,5,6)    \n",
    "\n",
    "num = [1,2,3,4,5,6]\n",
    "#sum_all_values(nums) # throws an error\n",
    "\n",
    "sum_all_values(*num) # this is called unpacking"
   ]
  },
  {
   "cell_type": "code",
   "execution_count": null,
   "metadata": {},
   "outputs": [],
   "source": [
    "# Example :"
   ]
  },
  {
   "cell_type": "code",
   "execution_count": 13,
   "metadata": {},
   "outputs": [
    {
     "name": "stdout",
     "output_type": "stream",
     "text": [
      "Result1 : 1\n",
      "Result2 : 14\n"
     ]
    }
   ],
   "source": [
    "def count_sevens(*args):\n",
    "    return args.count(7)\n",
    " \n",
    "nums = [90,1,35,67,89,20,3,1,2,3,4,5,6,9,34,46,57,68,79,12,23,34,55,1,90,54,34,76,8,23,34,45,56,67,78,12,23,34,45,56,67,768,23,4,5,6,7,8,9,12,34,14,15,16,17,11,7,11,8,4,6,2,5,8,7,10,12,13,14,15,7,8,7,7,345,23,34,45,56,67,1,7,3,6,7,2,3,4,5,6,7,8,9,8,7,6,5,4,2,1,2,3,4,5,6,7,8,9,0,9,8,7,8,7,6,5,4,3,2,1,7]\n",
    "\n",
    "result1 = count_sevens(1,4,7)\n",
    "print(f\"Result1 : {result1}\")\n",
    "\n",
    "result2 = count_sevens(*nums)\n",
    "print(f\"Result2 : {result2}\")"
   ]
  },
  {
   "cell_type": "code",
   "execution_count": null,
   "metadata": {},
   "outputs": [],
   "source": [
    "# Dictonary unpacking\n",
    "# Use ** as an argument to a funtion to unpack"
   ]
  },
  {
   "cell_type": "code",
   "execution_count": 16,
   "metadata": {},
   "outputs": [
    {
     "data": {
      "text/plain": [
       "'The result is 0.7'"
      ]
     },
     "execution_count": 16,
     "metadata": {},
     "output_type": "execute_result"
    }
   ],
   "source": [
    "def calculate(**kwargs):\n",
    "    operation_lookup = {\n",
    "        'add': kwargs.get('first', 0) + kwargs.get('second', 0),\n",
    "        'subtract': kwargs.get('first', 0) - kwargs.get('second', 0),\n",
    "        'divide': kwargs.get('first', 0) / kwargs.get('second', 0),\n",
    "        'multiply': kwargs.get('first', 0) * kwargs.get('second', 0)\n",
    "    }\n",
    "    is_float = kwargs.get('make_float', False)\n",
    "    operation_value = operation_lookup[kwargs.get('operation', '')]\n",
    "    if is_float:\n",
    "        final = \"{} {}\".format(kwargs.get('message','The result is'), float(operation_value))\n",
    "    else:\n",
    "        final = \"{} {}\".format(kwargs.get('message','The result is'), int(operation_value))\n",
    "    return final\n",
    "\n",
    "calculate(make_float=True, operation='divide', first=3.5, second=5)"
   ]
  },
  {
   "cell_type": "code",
   "execution_count": null,
   "metadata": {},
   "outputs": [],
   "source": []
  }
 ],
 "metadata": {
  "kernelspec": {
   "display_name": "Python 3",
   "language": "python",
   "name": "python3"
  },
  "language_info": {
   "codemirror_mode": {
    "name": "ipython",
    "version": 3
   },
   "file_extension": ".py",
   "mimetype": "text/x-python",
   "name": "python",
   "nbconvert_exporter": "python",
   "pygments_lexer": "ipython3",
   "version": "3.7.3"
  }
 },
 "nbformat": 4,
 "nbformat_minor": 4
}
