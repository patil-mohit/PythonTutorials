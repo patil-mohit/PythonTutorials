{
 "cells": [
  {
   "cell_type": "code",
   "execution_count": null,
   "metadata": {},
   "outputs": [],
   "source": [
    "# Ways formatting string by interpoling variables"
   ]
  },
  {
   "cell_type": "code",
   "execution_count": null,
   "metadata": {},
   "outputs": [],
   "source": [
    "# 1) F-String method:"
   ]
  },
  {
   "cell_type": "code",
   "execution_count": 2,
   "metadata": {},
   "outputs": [
    {
     "name": "stdout",
     "output_type": "stream",
     "text": [
      "I have told you 10 time\n"
     ]
    }
   ],
   "source": [
    "x = 10\n",
    "formatted = f\"I have told you {x} time\"\n",
    "print(formatted)"
   ]
  },
  {
   "cell_type": "code",
   "execution_count": null,
   "metadata": {},
   "outputs": [],
   "source": [
    "# 2) .formatted Method:"
   ]
  },
  {
   "cell_type": "code",
   "execution_count": 7,
   "metadata": {},
   "outputs": [
    {
     "name": "stdout",
     "output_type": "stream",
     "text": [
      "I have told you 10 time\n"
     ]
    }
   ],
   "source": [
    "x = 10\n",
    "fomatted = \"I have told you {} times\".format(10)\n",
    "print(formatted)"
   ]
  },
  {
   "cell_type": "code",
   "execution_count": 3,
   "metadata": {},
   "outputs": [
    {
     "name": "stdout",
     "output_type": "stream",
     "text": [
      "what is your name \n",
      "Mohit\n",
      "My name is Mohit\n"
     ]
    }
   ],
   "source": [
    "name = input(\"what is your name \\n\")\n",
    "print(\"My name is \" + name)"
   ]
  },
  {
   "cell_type": "code",
   "execution_count": null,
   "metadata": {},
   "outputs": [],
   "source": [
    "# Boolean and conditional logic"
   ]
  },
  {
   "cell_type": "raw",
   "metadata": {},
   "source": [
    "# Truthiness in Python"
   ]
  },
  {
   "cell_type": "code",
   "execution_count": 13,
   "metadata": {},
   "outputs": [
    {
     "name": "stdout",
     "output_type": "stream",
     "text": [
      "I am always true even if I am 1\n"
     ]
    }
   ],
   "source": [
    "if 0:\n",
    "    print(\"I am always true even if I am 0\")\n",
    "elif 1:\n",
    "    print(\"I am always true even if I am 1\")"
   ]
  },
  {
   "cell_type": "code",
   "execution_count": 4,
   "metadata": {},
   "outputs": [
    {
     "name": "stdout",
     "output_type": "stream",
     "text": [
      "Enter your favorite anaimalBail\n",
      "Bail is my favorite too!\n"
     ]
    }
   ],
   "source": [
    "animal = input(\"Enter your favorite anaimal \\n\")\n",
    "\n",
    "if animal:\n",
    "    print(animal + \" is my favorite too!\")\n",
    "else:\n",
    "    print(\"You didn't say anything!\")"
   ]
  },
  {
   "cell_type": "code",
   "execution_count": null,
   "metadata": {},
   "outputs": [],
   "source": [
    "#Loops in Python"
   ]
  },
  {
   "cell_type": "code",
   "execution_count": null,
   "metadata": {},
   "outputs": [],
   "source": [
    "#for loop : \n",
    "#for item iterableObject\n",
    "#    do something with iterable objects"
   ]
  },
  {
   "cell_type": "code",
   "execution_count": null,
   "metadata": {},
   "outputs": [],
   "source": [
    "# ranges in depth\n",
    "# range is slice of number line\n",
    "# range(7) - yeilds intergers from 0 through 6\n",
    "# range(1,8) - yeilds intergers from o through 7\n",
    "# range(1,10,2) - yeilds integers from 1 to 10 by interval of 2. Third parameter is called step meaning how many to skip.\n",
    "#which way to count by + or -\n",
    "# range(7,0,-1) - yeilds integers from 7 to 1 "
   ]
  },
  {
   "cell_type": "code",
   "execution_count": 22,
   "metadata": {},
   "outputs": [
    {
     "name": "stdout",
     "output_type": "stream",
     "text": [
      "10\n",
      "12\n",
      "14\n",
      "16\n",
      "18\n",
      "20\n"
     ]
    }
   ],
   "source": [
    "# print the even numbers in 10 to 20 \n",
    "for num in range(10,22,2):\n",
    "    print(num)"
   ]
  },
  {
   "cell_type": "code",
   "execution_count": 19,
   "metadata": {},
   "outputs": [
    {
     "name": "stdout",
     "output_type": "stream",
     "text": [
      "11\n",
      "13\n",
      "15\n",
      "17\n",
      "19\n"
     ]
    }
   ],
   "source": [
    "# print the odd numbers in 10 to 20\n",
    "for num in range(11,20,2):\n",
    "    print(num)"
   ]
  },
  {
   "cell_type": "code",
   "execution_count": 21,
   "metadata": {},
   "outputs": [
    {
     "name": "stdout",
     "output_type": "stream",
     "text": [
      "11\n",
      "13\n",
      "15\n",
      "17\n",
      "19\n"
     ]
    }
   ],
   "source": [
    "# Add up all odd numbers between 10 and 20\n",
    "# Store the result in x:\n",
    "x = 0\n",
    "\n",
    "for n in range(10,21):\n",
    "    if n % 2 != 0 :\n",
    "        x =  n\n",
    "        print(x)"
   ]
  },
  {
   "cell_type": "code",
   "execution_count": 31,
   "metadata": {
    "scrolled": true
   },
   "outputs": [
    {
     "name": "stdout",
     "output_type": "stream",
     "text": [
      "How many times do I have told you \t10\n",
      "CLEAN UP THE ROOM!\n",
      "CLEAN UP THE ROOM!\n",
      "CLEAN UP THE ROOM!\n",
      "CLEAN UP THE ROOM!\n",
      "CLEAN UP THE ROOM!\n",
      "CLEAN UP THE ROOM!\n",
      "CLEAN UP THE ROOM!\n",
      "CLEAN UP THE ROOM!\n",
      "CLEAN UP THE ROOM!\n",
      "CLEAN UP THE ROOM!\n"
     ]
    }
   ],
   "source": [
    "# for loops example\n",
    "\n",
    "num = input(\"How many times do I have told you? \")\n",
    "num = int(num)\n",
    "for n in range(num):\n",
    "    print(\"CLEAN UP THE ROOM!\")\n",
    "    "
   ]
  },
  {
   "cell_type": "code",
   "execution_count": 42,
   "metadata": {},
   "outputs": [
    {
     "name": "stdout",
     "output_type": "stream",
     "text": [
      "1 is ODD!\n",
      "2 is EVEN!\n",
      "3 is ODD!\n",
      "4 is UNLUCKY!\n",
      "5 is ODD!\n",
      "6 is EVEN!\n",
      "7 is ODD!\n",
      "8 is EVEN!\n",
      "9 is ODD!\n",
      "10 is EVEN!\n",
      "11 is ODD!\n",
      "12 is EVEN!\n",
      "13 is UNLUCKY!\n",
      "14 is EVEN!\n",
      "15 is ODD!\n",
      "16 is EVEN!\n",
      "17 is ODD!\n",
      "18 is EVEN!\n",
      "19 is ODD!\n",
      "20 is EVEN!\n"
     ]
    }
   ],
   "source": [
    "# unlucky numbers\n",
    "# loop through 1-20\n",
    "# for 4 and 13 print unlucky\n",
    "# for even print even\n",
    "# for odd print odd\n",
    "\n",
    "for num in range(1,21):\n",
    "    if num == 4 or num == 13:\n",
    "        state = \"UNLUCKY!\"\n",
    "    elif num % 2 == 0 :\n",
    "        state = \"EVEN!\"\n",
    "    elif num % 2 != 0:\n",
    "        state = \"ODD!\"\n",
    "    print (f\"{num} is {state}\")    "
   ]
  },
  {
   "cell_type": "code",
   "execution_count": null,
   "metadata": {},
   "outputs": [],
   "source": [
    "# while loop\n",
    "# while im_tired:\n",
    "     # seek caffeine\n"
   ]
  },
  {
   "cell_type": "code",
   "execution_count": 50,
   "metadata": {},
   "outputs": [
    {
     "name": "stdout",
     "output_type": "stream",
     "text": [
      "whats the secret password?pink\n",
      "WRONG!\n",
      "whats the secret password?banans\n",
      "WRONG!\n",
      "whats the secret password?bananas\n",
      "CORRECT!\n"
     ]
    }
   ],
   "source": [
    "# Continues to ask for user input until the user types 'bananas'\n",
    "msg = input(\"whats the secret password?\")\n",
    "while msg != \"bananas\":\n",
    "\tprint(\"WRONG!\")\n",
    "\tmsg = input(\"whats the secret password?\")\n",
    "print(\"CORRECT!\")\n",
    "   "
   ]
  },
  {
   "cell_type": "code",
   "execution_count": 60,
   "metadata": {},
   "outputs": [
    {
     "name": "stdout",
     "output_type": "stream",
     "text": [
      "1\n",
      "2\n",
      "3\n",
      "4\n",
      "5\n",
      "6\n",
      "7\n",
      "8\n",
      "9\n",
      "10\n"
     ]
    }
   ],
   "source": [
    "num = 1\n",
    "\n",
    "while num < 11:\n",
    "    print(num)\n",
    "    num += 1"
   ]
  },
  {
   "cell_type": "code",
   "execution_count": 75,
   "metadata": {},
   "outputs": [
    {
     "name": "stdout",
     "output_type": "stream",
     "text": [
      "😀\n",
      "😀😀\n",
      "😀😀😀\n",
      "😀😀😀😀\n",
      "😀😀😀😀😀\n",
      "😀😀😀😀😀😀\n",
      "😀😀😀😀😀😀😀\n",
      "😀😀😀😀😀😀😀😀\n",
      "😀😀😀😀😀😀😀😀😀\n",
      "😀😀😀😀😀😀😀😀😀😀\n"
     ]
    }
   ],
   "source": [
    "# emoji art string multiplication\n",
    "for i in range(1,11):\n",
    "    print(\"\\U0001f600\"* i)\n",
    "  "
   ]
  },
  {
   "cell_type": "code",
   "execution_count": 78,
   "metadata": {},
   "outputs": [
    {
     "name": "stdout",
     "output_type": "stream",
     "text": [
      "😀\n",
      "😀😀\n",
      "😀😀😀\n",
      "😀😀😀😀\n",
      "😀😀😀😀😀\n",
      "😀😀😀😀😀😀\n",
      "😀😀😀😀😀😀😀\n",
      "😀😀😀😀😀😀😀😀\n",
      "😀😀😀😀😀😀😀😀😀\n",
      "😀😀😀😀😀😀😀😀😀😀\n"
     ]
    }
   ],
   "source": [
    "# emoji art string muliplication\n",
    "num = 1\n",
    "while num <= 10:\n",
    "    print(\"\\U0001f600\"* num)\n",
    "    num += 1"
   ]
  },
  {
   "cell_type": "code",
   "execution_count": 83,
   "metadata": {},
   "outputs": [
    {
     "name": "stdout",
     "output_type": "stream",
     "text": [
      "😀\n",
      "😀😀\n",
      "😀😀😀\n",
      "😀😀😀😀\n",
      "😀😀😀😀😀\n",
      "😀😀😀😀😀😀\n",
      "😀😀😀😀😀😀😀\n",
      "😀😀😀😀😀😀😀😀\n",
      "😀😀😀😀😀😀😀😀😀\n",
      "😀😀😀😀😀😀😀😀😀😀\n"
     ]
    }
   ],
   "source": [
    "# emoji art without string muliplication\n",
    "\n",
    "for x in range(1,11):\n",
    "    count = 1\n",
    "    smileys = \"\"\n",
    "    while count <= x:\n",
    "        smileys += \"\\U0001f600\"\n",
    "        #smileys += smileys\n",
    "        count += 1\n",
    "    print(smileys)    "
   ]
  },
  {
   "cell_type": "code",
   "execution_count": null,
   "metadata": {},
   "outputs": [],
   "source": [
    "# ASSIGNMENT:  centered emoji art"
   ]
  },
  {
   "cell_type": "code",
   "execution_count": null,
   "metadata": {},
   "outputs": [],
   "source": [
    "# Puzzles - What is the output of below snipetts:"
   ]
  },
  {
   "cell_type": "code",
   "execution_count": null,
   "metadata": {},
   "outputs": [],
   "source": [
    "x = 0\n",
    "while x != 11:\n",
    "  x += 2\n",
    "  print(x)"
   ]
  },
  {
   "cell_type": "code",
   "execution_count": null,
   "metadata": {},
   "outputs": [],
   "source": [
    "i = 1\n",
    "while i < 5:\n",
    "  i + i\n",
    "  print(i)"
   ]
  },
  {
   "cell_type": "code",
   "execution_count": null,
   "metadata": {},
   "outputs": [],
   "source": [
    "i = 0\n",
    "while i <= 5:\n",
    "  i =+ 1\n",
    "  print(i)"
   ]
  },
  {
   "cell_type": "code",
   "execution_count": 7,
   "metadata": {},
   "outputs": [],
   "source": [
    "from random import randint  # use randint(a, b) to generate a random number between a and b\n",
    " \n",
    "number = 0 #store random number in here, each time through\n",
    "i = 0  # i should be incremented by one each iteration\n",
    " \n",
    "while number != 5: #keep looping while number is not 5\n",
    "    i += 1\n",
    "    number = randint(1, 10) #update number to be a new random int from 1-10\n"
   ]
  },
  {
   "cell_type": "code",
   "execution_count": null,
   "metadata": {},
   "outputs": [],
   "source": [
    "# LISTS\n",
    "# list is same as array in other programming language"
   ]
  },
  {
   "cell_type": "code",
   "execution_count": 7,
   "metadata": {},
   "outputs": [
    {
     "name": "stdout",
     "output_type": "stream",
     "text": [
      " SUPER CALI FRAGIL EXPI ALI DOCIUS\n"
     ]
    }
   ],
   "source": [
    "# Example - \n",
    "# Create a lis sound and convert it into single combined string in UPPERCASE\n",
    "\n",
    "sounds = [\"super\", \"cali\", \"fragil\", \"expi\",\"ali\",\"docius\"]\n",
    "result = ''\n",
    "for sound in sounds:\n",
    "    result += ' ' + sound.upper()\n",
    "print(result)    "
   ]
  },
  {
   "cell_type": "code",
   "execution_count": null,
   "metadata": {},
   "outputs": [],
   "source": [
    "# LIST methods\n",
    "# append vs extend vs insert"
   ]
  },
  {
   "cell_type": "code",
   "execution_count": null,
   "metadata": {},
   "outputs": [],
   "source": [
    "# APEND - adds only one item at the end"
   ]
  },
  {
   "cell_type": "code",
   "execution_count": 18,
   "metadata": {},
   "outputs": [
    {
     "name": "stdout",
     "output_type": "stream",
     "text": [
      "[1, 2, 3, 4, 5] lenght : 5\n",
      "[1, 2, 3, 4, 5, [0, 80, 90]] lenght : 6\n"
     ]
    }
   ],
   "source": [
    "first_list = [1,2,3,4]\n",
    "\n",
    "first_list.append(5)\n",
    "print(f\"{first_list} lenght : {len(first_list)}\")\n",
    "\n",
    "first_list.append([0,80,90])\n",
    "print(f\"{first_list} lenght : {len(first_list)}\")"
   ]
  },
  {
   "cell_type": "code",
   "execution_count": null,
   "metadata": {},
   "outputs": [],
   "source": [
    "# EXTEND - adds list to the exsting list"
   ]
  },
  {
   "cell_type": "code",
   "execution_count": 21,
   "metadata": {},
   "outputs": [
    {
     "name": "stdout",
     "output_type": "stream",
     "text": [
      "[1, 2, 3, 4, 5] lenght : 5\n",
      "[1, 2, 3, 4, 5, 0, 80, 90] lenght : 8\n"
     ]
    }
   ],
   "source": [
    "first_list = [1,2,3,4]\n",
    "\n",
    "first_list.extend([5])\n",
    "print(f\"{first_list} lenght : {len(first_list)}\")\n",
    "\n",
    "first_list.extend([0,80,90])\n",
    "print(f\"{first_list} lenght : {len(first_list)}\")"
   ]
  },
  {
   "cell_type": "code",
   "execution_count": null,
   "metadata": {},
   "outputs": [],
   "source": [
    "# Insert - inserts item at the said position"
   ]
  },
  {
   "cell_type": "code",
   "execution_count": 27,
   "metadata": {},
   "outputs": [
    {
     "name": "stdout",
     "output_type": "stream",
     "text": [
      "[1, 2, 3, 4, 'hi'] lenght : 5\n",
      "[1, 2, 3, 4, 'hi', 'LAST'] lenght : 6\n",
      "[1, 2, 3, 4, 'hi', 'SECOND LAST', 'LAST'] lenght : 7\n"
     ]
    }
   ],
   "source": [
    "first_list = [1,2,3,4]\n",
    "\n",
    "first_list.insert(4,'hi')\n",
    "print(f\"{first_list} lenght : {len(first_list)}\")\n",
    "\n",
    "first_list.insert(len(first_list),'LAST')\n",
    "print(f\"{first_list} lenght : {len(first_list)}\")\n",
    "\n",
    "first_list.insert(-1,'SECOND LAST')\n",
    "print(f\"{first_list} lenght : {len(first_list)}\")"
   ]
  },
  {
   "cell_type": "code",
   "execution_count": null,
   "metadata": {},
   "outputs": [],
   "source": [
    "# CLEAR vs POP vs REMOVE"
   ]
  },
  {
   "cell_type": "code",
   "execution_count": null,
   "metadata": {},
   "outputs": [],
   "source": [
    "# CLEAR - removes all items from list"
   ]
  },
  {
   "cell_type": "code",
   "execution_count": 35,
   "metadata": {},
   "outputs": [
    {
     "name": "stdout",
     "output_type": "stream",
     "text": [
      "items[] : ['socks', 'bug', 'mug', 'broom']\n",
      "clear() : []\n"
     ]
    }
   ],
   "source": [
    "items = [\"socks\", \"bug\", \"mug\", \"broom\"]\n",
    "print(f\"items[] : {items}\")\n",
    "\n",
    "items.clear()\n",
    "print(f\"clear() : {items}\")"
   ]
  },
  {
   "cell_type": "code",
   "execution_count": null,
   "metadata": {},
   "outputs": [],
   "source": [
    "# POP - Remove the item from the position in the list and return it"
   ]
  },
  {
   "cell_type": "code",
   "execution_count": 34,
   "metadata": {},
   "outputs": [
    {
     "name": "stdout",
     "output_type": "stream",
     "text": [
      "['socks', 'bug', 'mug', 'broom']\n",
      "pop() : ['socks', 'bug', 'mug']\n",
      "pop(1) : ['socks', 'mug']\n"
     ]
    }
   ],
   "source": [
    "items = [\"socks\", \"bug\", \"mug\", \"broom\"]\n",
    "print(items)\n",
    "\n",
    "items.pop() # removes last index by default\n",
    "print(f\"pop() : {items}\")\n",
    "\n",
    "items.pop(1)\n",
    "print(f\"pop(1) : {items}\")\n"
   ]
  },
  {
   "cell_type": "code",
   "execution_count": null,
   "metadata": {},
   "outputs": [],
   "source": [
    "# REMOVE - removes the first item from the list whose value is x\n",
    "# throws the value error if item not found"
   ]
  },
  {
   "cell_type": "code",
   "execution_count": 38,
   "metadata": {},
   "outputs": [
    {
     "name": "stdout",
     "output_type": "stream",
     "text": [
      "items[] : ['socks', 'bug', 'bug', 'mug', 'broom']\n",
      "remove(2) : ['socks', 'bug', 'mug', 'broom']\n"
     ]
    }
   ],
   "source": [
    "items = [\"socks\", \"bug\", \"bug\", \"mug\", \"broom\"]\n",
    "print(f\"items[] : {items}\")\n",
    "\n",
    "items.remove(\"bug\")\n",
    "print(f\"remove(2) : {items}\")"
   ]
  },
  {
   "cell_type": "code",
   "execution_count": null,
   "metadata": {},
   "outputs": [],
   "source": [
    "# INDEX - returns the index of specified item in the list"
   ]
  },
  {
   "cell_type": "code",
   "execution_count": 39,
   "metadata": {},
   "outputs": [
    {
     "name": "stdout",
     "output_type": "stream",
     "text": [
      "numbers[] : [5, 6, 7, 9, 10]\n"
     ]
    },
    {
     "data": {
      "text/plain": [
       "1"
      ]
     },
     "execution_count": 39,
     "metadata": {},
     "output_type": "execute_result"
    }
   ],
   "source": [
    "numbers = [5, 6, 7, 9, 10]\n",
    "print(f\"numbers[] : {numbers}\")\n",
    "\n",
    "numbers.index(6)"
   ]
  },
  {
   "cell_type": "code",
   "execution_count": null,
   "metadata": {},
   "outputs": [],
   "source": [
    "# can be specified start and end"
   ]
  },
  {
   "cell_type": "code",
   "execution_count": 41,
   "metadata": {},
   "outputs": [
    {
     "name": "stdout",
     "output_type": "stream",
     "text": [
      "0\n",
      "1\n",
      "4\n"
     ]
    }
   ],
   "source": [
    "numbers = [5,5,6,7,5,8,8,9,10]\n",
    "\n",
    "print(numbers.index(5))\n",
    "print(numbers.index(5,1))\n",
    "print(numbers.index(5,2))"
   ]
  },
  {
   "cell_type": "code",
   "execution_count": null,
   "metadata": {},
   "outputs": [],
   "source": [
    "# COUNT - return the number of times x appers in the list"
   ]
  },
  {
   "cell_type": "code",
   "execution_count": 43,
   "metadata": {},
   "outputs": [
    {
     "name": "stdout",
     "output_type": "stream",
     "text": [
      "3\n"
     ]
    }
   ],
   "source": [
    "numbers = [5,5,6,7,5,8,8,9,10]\n",
    "\n",
    "print(numbers.count(5))"
   ]
  },
  {
   "cell_type": "code",
   "execution_count": null,
   "metadata": {},
   "outputs": [],
   "source": [
    "# REVERSE - reverse the elements in the list(in-placed)"
   ]
  },
  {
   "cell_type": "code",
   "execution_count": 44,
   "metadata": {},
   "outputs": [
    {
     "name": "stdout",
     "output_type": "stream",
     "text": [
      "[5, 5, 6, 7, 5, 8, 8, 9, 10]\n",
      "[10, 9, 8, 8, 5, 7, 6, 5, 5]\n"
     ]
    }
   ],
   "source": [
    "numbers = [5,5,6,7,5,8,8,9,10]\n",
    "print(numbers)\n",
    "\n",
    "numbers.reverse()\n",
    "print(numbers)\n"
   ]
  },
  {
   "cell_type": "code",
   "execution_count": null,
   "metadata": {},
   "outputs": [],
   "source": [
    "# SORT - sort the elements in the list(in-placed)"
   ]
  },
  {
   "cell_type": "code",
   "execution_count": 45,
   "metadata": {},
   "outputs": [
    {
     "name": "stdout",
     "output_type": "stream",
     "text": [
      "[5, 5, 6, 7, 5, 8, 8, 9, 10]\n",
      "[5, 5, 5, 6, 7, 8, 8, 9, 10]\n"
     ]
    }
   ],
   "source": [
    "numbers = [5,5,6,7,5,8,8,9,10]\n",
    "print(numbers)\n",
    "\n",
    "numbers.sort()\n",
    "print(numbers)"
   ]
  },
  {
   "cell_type": "code",
   "execution_count": null,
   "metadata": {},
   "outputs": [],
   "source": [
    "# JOIN - it is calling on string\n",
    "# used to convrt the list to string\n",
    "# technically a string method that takes an iterable argument\n",
    "# conacatenates (combines) a copy of the base string between each item of the iterable"
   ]
  },
  {
   "cell_type": "code",
   "execution_count": 47,
   "metadata": {},
   "outputs": [
    {
     "name": "stdout",
     "output_type": "stream",
     "text": [
      "coding, is, fun!\n"
     ]
    }
   ],
   "source": [
    "words = [\"coding\", \"is\", \"fun!\"]\n",
    "print(', '.join(words))"
   ]
  },
  {
   "cell_type": "code",
   "execution_count": null,
   "metadata": {},
   "outputs": [],
   "source": [
    "# SLICING\n",
    "# make new list using slices of the old list!\n",
    "# syntax => some_list[startIndex:endIndex:step]"
   ]
  },
  {
   "cell_type": "code",
   "execution_count": 52,
   "metadata": {},
   "outputs": [
    {
     "name": "stdout",
     "output_type": "stream",
     "text": [
      "[2, 3, 4]\n",
      "[3, 4]\n",
      "[4]\n"
     ]
    }
   ],
   "source": [
    "first_list = [1, 2, 3, 4]\n",
    "print(first_list[1:])\n",
    "\n",
    "print(first_list[-2:])\n",
    "\n",
    "print(first_list[3:])"
   ]
  },
  {
   "cell_type": "code",
   "execution_count": 8,
   "metadata": {},
   "outputs": [
    {
     "name": "stdout",
     "output_type": "stream",
     "text": [
      "teloiv\n"
     ]
    }
   ],
   "source": [
    "colors = [\"red\", \"orange\", \"green\", \"blue\",\"indigo\", \"violet\"]\n",
    "#print(colors[2:])\n",
    "\n",
    "#print(colors[-2:])\n",
    "\n",
    "#print(colors[0:5]) # same as print(colors[:5])\n",
    "\n",
    "#print(colors[::-1])\n",
    "\n",
    "#print(colors[::2])\n",
    "\n",
    "print(colors[5][::-1])"
   ]
  },
  {
   "cell_type": "code",
   "execution_count": 5,
   "metadata": {},
   "outputs": [],
   "source": [
    "# swaping of values in python way"
   ]
  },
  {
   "cell_type": "code",
   "execution_count": 63,
   "metadata": {},
   "outputs": [
    {
     "name": "stdout",
     "output_type": "stream",
     "text": [
      "['Mohtit', 'Patil']\n",
      "After swapping : ['Patil', 'Mohtit']\n"
     ]
    }
   ],
   "source": [
    "names = [\"Mohtit\", \"Patil\"]\n",
    "print(names)\n",
    "\n",
    "names[0], names[1] = names[1], names[0]\n",
    "print(f\"After swapping : {names}\")"
   ]
  },
  {
   "cell_type": "code",
   "execution_count": null,
   "metadata": {},
   "outputs": [],
   "source": [
    "# List comprehension - one of the powerful feature of python\n",
    "# the syntax\n",
    "# [ _ for_in_ ]\n",
    "# [operation for operand in list[]]"
   ]
  },
  {
   "cell_type": "code",
   "execution_count": 64,
   "metadata": {},
   "outputs": [
    {
     "name": "stdout",
     "output_type": "stream",
     "text": [
      "[10, 20, 30]\n"
     ]
    }
   ],
   "source": [
    "nums = [1, 2, 3]\n",
    "print([x*10 for x in nums])"
   ]
  },
  {
   "cell_type": "code",
   "execution_count": null,
   "metadata": {},
   "outputs": [],
   "source": [
    "# List comprehension vs Looping"
   ]
  },
  {
   "cell_type": "code",
   "execution_count": 74,
   "metadata": {},
   "outputs": [
    {
     "name": "stdout",
     "output_type": "stream",
     "text": [
      "using for loop : [2, 4, 6, 8, 10]\n",
      "using list comprehension : [2, 4, 6, 8, 10]\n"
     ]
    }
   ],
   "source": [
    "numbers = [1, 2, 3, 4, 5]\n",
    "doubled_numbers = []\n",
    "\n",
    "for num in numbers:\n",
    "    doubled_number = num * 2\n",
    "    doubled_numbers.append(doubled_number)\n",
    "    \n",
    "print(f\"using for loop : {doubled_numbers}\")\n",
    "\n",
    "\n",
    "doubled_numbers = [num*2 for num in numbers]\n",
    "print(f\"using list comprehension : {doubled_numbers}\")"
   ]
  },
  {
   "cell_type": "code",
   "execution_count": 78,
   "metadata": {},
   "outputs": [
    {
     "name": "stdout",
     "output_type": "stream",
     "text": [
      "['C', 'O', 'L', 'T']\n"
     ]
    }
   ],
   "source": [
    "name = 'colt'\n",
    "print([char.upper() for char in name])"
   ]
  },
  {
   "cell_type": "code",
   "execution_count": 89,
   "metadata": {},
   "outputs": [
    {
     "name": "stdout",
     "output_type": "stream",
     "text": [
      "['MOHIT', 'SURABHI', 'JYOTI']\n"
     ]
    }
   ],
   "source": [
    "friends = ['mohit', 'surabhi', 'jyoti']\n",
    "print([friend.upper() for friend in friends])"
   ]
  },
  {
   "cell_type": "code",
   "execution_count": 88,
   "metadata": {},
   "outputs": [
    {
     "name": "stdout",
     "output_type": "stream",
     "text": [
      "['A', 'M', 'M']\n"
     ]
    }
   ],
   "source": [
    "friends = ['ashley', 'matt', 'michael']\n",
    "\n",
    "print([friend[0].upper() for friend in friends])# ['Ashley', 'Matt', 'Michael']"
   ]
  },
  {
   "cell_type": "code",
   "execution_count": 3,
   "metadata": {},
   "outputs": [
    {
     "name": "stdout",
     "output_type": "stream",
     "text": [
      "['E', 'T', 'M']\n",
      "[2, 4, 6]\n"
     ]
    }
   ],
   "source": [
    "# conditional logic in List Comprehension\n",
    "\n",
    "answer = [person[0] for person in [\"Elie\", \"Tim\", \"Matt\"]]\n",
    "print(answer)\n",
    "\n",
    "numbers = [1, 2, 3, 4, 5, 6]\n",
    "answer2 = [val for val in numbers if val % 2 == 0]\n",
    "print(answer2)"
   ]
  },
  {
   "cell_type": "code",
   "execution_count": 5,
   "metadata": {},
   "outputs": [
    {
     "name": "stdout",
     "output_type": "stream",
     "text": [
      "[3, 4]\n"
     ]
    }
   ],
   "source": [
    "# carefully check out the syntax ...in \n",
    "\n",
    "answer = [val for val in [1, 2, 3, 4] if val in [3, 4, 5,6]] \n",
    "print(answer)"
   ]
  },
  {
   "cell_type": "code",
   "execution_count": 6,
   "metadata": {},
   "outputs": [
    {
     "name": "stdout",
     "output_type": "stream",
     "text": [
      "['eile', 'mit', 'ttam']\n"
     ]
    }
   ],
   "source": [
    "answer2 = [val[::-1].lower() for val in [\"Elie\", \"Tim\", \"Matt\"]]\n",
    "print(answer2)"
   ]
  },
  {
   "cell_type": "code",
   "execution_count": 7,
   "metadata": {},
   "outputs": [
    {
     "name": "stdout",
     "output_type": "stream",
     "text": [
      "[12, 24, 36, 48, 60, 72, 84, 96]\n"
     ]
    }
   ],
   "source": [
    "answer = [num for num in range(1,101) if num % 12 == 0]\n",
    "print(answer)"
   ]
  },
  {
   "cell_type": "code",
   "execution_count": 13,
   "metadata": {},
   "outputs": [
    {
     "name": "stdout",
     "output_type": "stream",
     "text": [
      "['m', 'z', 'n', 'g']\n"
     ]
    }
   ],
   "source": [
    "# carefully check out the syntx ...not in \n",
    "\n",
    "answer = [char for char in 'amazing' if char not in  'aeiou' ]\n",
    "print(answer)          "
   ]
  },
  {
   "cell_type": "code",
   "execution_count": null,
   "metadata": {},
   "outputs": [],
   "source": [
    "# Nested Lists"
   ]
  },
  {
   "cell_type": "code",
   "execution_count": 17,
   "metadata": {},
   "outputs": [
    {
     "name": "stdout",
     "output_type": "stream",
     "text": [
      "1\n",
      "2\n",
      "3\n",
      "4\n",
      "5\n",
      "6\n",
      "7\n",
      "8\n",
      "9\n"
     ]
    }
   ],
   "source": [
    "nested_list = [[1, 2, 3], [4, 5, 6], [7, 8, 9] ]\n",
    "\n",
    "# print(nested_list[0][0]) # access 1\n",
    "\n",
    "# print(nested_list[2][1]) # access 8\n",
    "\n",
    "# Loop throgh the list\n",
    "\n",
    "for i in nested_list:\n",
    "    for val in i:\n",
    "        print(val)\n"
   ]
  },
  {
   "cell_type": "code",
   "execution_count": null,
   "metadata": {},
   "outputs": [],
   "source": [
    "# Nested list comprehension"
   ]
  },
  {
   "cell_type": "code",
   "execution_count": 22,
   "metadata": {},
   "outputs": [
    {
     "name": "stdout",
     "output_type": "stream",
     "text": [
      "1\n",
      "2\n",
      "3\n",
      "4\n",
      "5\n",
      "6\n",
      "7\n",
      "8\n",
      "9\n"
     ]
    }
   ],
   "source": [
    "nested_list = [[1, 2, 3], [4, 5, 6], [7, 8, 9] ]\n",
    "\n",
    "answer = [[print(val) for val in i] for i in nested_list]\n"
   ]
  },
  {
   "cell_type": "code",
   "execution_count": 26,
   "metadata": {},
   "outputs": [
    {
     "name": "stdout",
     "output_type": "stream",
     "text": [
      "[[1, 2, 3], [1, 2, 3], [1, 2, 3]]\n"
     ]
    }
   ],
   "source": [
    "board = [[num for num in range(1, 4)] for val in range(1, 4) ]\n",
    "print(board)"
   ]
  },
  {
   "cell_type": "code",
   "execution_count": 28,
   "metadata": {},
   "outputs": [
    {
     "name": "stdout",
     "output_type": "stream",
     "text": [
      "[['x', 'o', 'x'], ['x', 'o', 'x'], ['x', 'o', 'x']]\n"
     ]
    }
   ],
   "source": [
    "answer = [['x' if num % 2 != 0 else 'o' for num in range(1, 4)] for val in range(1, 4)]\n",
    "\n",
    "print(answer)"
   ]
  },
  {
   "cell_type": "code",
   "execution_count": 4,
   "metadata": {},
   "outputs": [
    {
     "name": "stdout",
     "output_type": "stream",
     "text": [
      "[[0, 1, 2], [0, 1, 2], [0, 1, 2]]\n"
     ]
    }
   ],
   "source": [
    "answer = [[y for y in range(3)] for x in range(3)]\n",
    "print(answer)"
   ]
  },
  {
   "cell_type": "code",
   "execution_count": 9,
   "metadata": {},
   "outputs": [
    {
     "name": "stdout",
     "output_type": "stream",
     "text": [
      "[[0, 1, 2, 3, 4, 5, 6, 7, 8, 9], [0, 1, 2, 3, 4, 5, 6, 7, 8, 9], [0, 1, 2, 3, 4, 5, 6, 7, 8, 9], [0, 1, 2, 3, 4, 5, 6, 7, 8, 9], [0, 1, 2, 3, 4, 5, 6, 7, 8, 9], [0, 1, 2, 3, 4, 5, 6, 7, 8, 9], [0, 1, 2, 3, 4, 5, 6, 7, 8, 9], [0, 1, 2, 3, 4, 5, 6, 7, 8, 9], [0, 1, 2, 3, 4, 5, 6, 7, 8, 9], [0, 1, 2, 3, 4, 5, 6, 7, 8, 9]]\n"
     ]
    }
   ],
   "source": [
    "answer = [[i for i in range(0,10)] for num in range(0,10)]\n",
    "print(answer)"
   ]
  },
  {
   "cell_type": "code",
   "execution_count": null,
   "metadata": {},
   "outputs": [],
   "source": [
    "# Recap\n",
    "# Lists are fundamental data structure of the ordered data\n",
    "# list can be include by any type, even other list\n",
    "# we can modify lists veriety of the methods\n",
    "# slices are quite useful when  making copies of the lis\n",
    "# list comprehension is used everywhere when iterating over lists, strings, ranges and even more data types\n",
    "# swapping is quite useful when shuffling or sorting"
   ]
  },
  {
   "cell_type": "code",
   "execution_count": null,
   "metadata": {},
   "outputs": [],
   "source": [
    "# DICTIONARY"
   ]
  },
  {
   "cell_type": "code",
   "execution_count": null,
   "metadata": {},
   "outputs": [],
   "source": [
    "# A data structure consists of key value pairs.\n",
    "# We use keys to describe our data and the values to represent the data"
   ]
  },
  {
   "cell_type": "code",
   "execution_count": 8,
   "metadata": {},
   "outputs": [
    {
     "name": "stdout",
     "output_type": "stream",
     "text": [
      "Neil Young\n"
     ]
    }
   ],
   "source": [
    "artist = {\n",
    "    \"first\": \"Neil\",\n",
    "    \"last\": \"Young\",\n",
    "}\n",
    " \n",
    "# concat first and last name with a space\n",
    "full_name = artist[\"first\"] + \" \" + artist[\"last\"]\n",
    "print(full_name)"
   ]
  },
  {
   "cell_type": "code",
   "execution_count": 7,
   "metadata": {},
   "outputs": [
    {
     "name": "stdout",
     "output_type": "stream",
     "text": [
      "key is name and value is Mohit\n",
      "key is owns_ferrari and value is False\n",
      "key is num_courses and value is 2\n",
      "key is favorite_language and value is Python\n",
      "key is is_hilarious and value is False\n"
     ]
    }
   ],
   "source": [
    "instructor = {\n",
    "    \"name\": \"Mohit\",\n",
    "    \"owns_ferrari\": False,\n",
    "    \"num_courses\" : 2,\n",
    "    \"favorite_language\": \"Python\",\n",
    "    \"is_hilarious\": False\n",
    "}\n",
    "\n",
    "# Loop throgh all the elements\n",
    "\"\"\" \n",
    "for val in instructor.values():\n",
    "    print(val)\n",
    "\n",
    "for val in instructor.keys():\n",
    "    print(val)  \n",
    "    \n",
    "\"\"\"\n",
    "# instructor.items()\n",
    "\n",
    "for key, value in instructor.items():\n",
    "    print(f\"key is {key} and value is {value}\")\n",
    "    "
   ]
  },
  {
   "cell_type": "code",
   "execution_count": 1,
   "metadata": {},
   "outputs": [
    {
     "name": "stdout",
     "output_type": "stream",
     "text": [
      "11.0\n"
     ]
    }
   ],
   "source": [
    "donations = dict(sam=25.0, \n",
    "                 lena=88.99, \n",
    "                 chuck=13.0, \n",
    "                 linus=99.5, \n",
    "                 stan=150.0,\n",
    "                 lisa=50.25,\n",
    "                 harrison=10.0)\n",
    "count = 0\n",
    "for count in donations.values():\n",
    "    count += 1\n",
    "\n",
    "\n",
    "total_donations = count\n",
    "\n",
    "print(total_donations)\n"
   ]
  },
  {
   "cell_type": "code",
   "execution_count": 14,
   "metadata": {},
   "outputs": [
    {
     "name": "stdout",
     "output_type": "stream",
     "text": [
      "dict_values(['Mohit', False, 2, 'Python', False])\n",
      "dict_keys(['name', 'owns_ferrari', 'num_courses', 'favorite_language', 'is_hilarious'])\n"
     ]
    }
   ],
   "source": [
    "instructor = {\n",
    "    \"name\": \"Mohit\",\n",
    "    \"owns_ferrari\": False,\n",
    "    \"num_courses\" : 2,\n",
    "    \"favorite_language\": \"Python\",\n",
    "    \"is_hilarious\": False\n",
    "}\n",
    "\n",
    "# check if key present in dictionary\n",
    "\n",
    "\"name\" in instructor\n",
    "\n",
    "print(instructor.values())\n",
    "print(instructor.keys())"
   ]
  },
  {
   "cell_type": "code",
   "execution_count": null,
   "metadata": {},
   "outputs": [],
   "source": [
    "# DIctionary methods\n",
    "# Working with dictionary is very common - there are quite a few things we can do"
   ]
  },
  {
   "cell_type": "code",
   "execution_count": 15,
   "metadata": {},
   "outputs": [
    {
     "name": "stdout",
     "output_type": "stream",
     "text": [
      "{}\n"
     ]
    }
   ],
   "source": [
    "# clear - removes all items\n",
    "\n",
    "instructor = {\n",
    "    \"name\": \"Mohit\",\n",
    "    \"owns_ferrari\": False,\n",
    "    \"num_courses\" : 2,\n",
    "    \"favorite_language\": \"Python\",\n",
    "    \"is_hilarious\": False\n",
    "}\n",
    "\n",
    "instructor.clear()\n",
    "print(instructor)"
   ]
  },
  {
   "cell_type": "code",
   "execution_count": 17,
   "metadata": {},
   "outputs": [
    {
     "name": "stdout",
     "output_type": "stream",
     "text": [
      "{'a': 1, 'b': 2, 'c': 3}\n"
     ]
    },
    {
     "data": {
      "text/plain": [
       "False"
      ]
     },
     "execution_count": 17,
     "metadata": {},
     "output_type": "execute_result"
    }
   ],
   "source": [
    "# copy - make a copy of dictionary\n",
    "\n",
    "d = dict(a=1, b=2, c=3)\n",
    "c = d.copy()\n",
    "print(c)\n",
    "c is d"
   ]
  },
  {
   "cell_type": "code",
   "execution_count": 19,
   "metadata": {},
   "outputs": [
    {
     "name": "stdout",
     "output_type": "stream",
     "text": [
      "{'name': 'unknown', 'score': 'unknown', 'email': 'unknown', 'profile bio': 'unknown'}\n"
     ]
    }
   ],
   "source": [
    "# fromkeys - creates key-value pairs comma seperated values:\n",
    "# used to create default dictionary\n",
    "# Example - \n",
    "\n",
    "new_user = {}.fromkeys([])\n",
    "\n",
    "new_user = {}.fromkeys(['name', 'score', 'email', 'profile bio'], 'unknown')\n",
    "\n",
    "print(new_user)"
   ]
  },
  {
   "cell_type": "code",
   "execution_count": 21,
   "metadata": {},
   "outputs": [
    {
     "name": "stdout",
     "output_type": "stream",
     "text": [
      "1\n",
      "None\n"
     ]
    }
   ],
   "source": [
    "# get - Retrieves a key in an object and return None instead of a KeyError of the key does not exist:\n",
    "\n",
    "d = dict(a=1, b=2, c=3)\n",
    "\n",
    "print(d.get('a'))\n",
    "\n",
    "print(d.get('no_key'))\n"
   ]
  },
  {
   "cell_type": "code",
   "execution_count": 23,
   "metadata": {},
   "outputs": [
    {
     "name": "stdout",
     "output_type": "stream",
     "text": [
      "1\n",
      "{'b': 2, 'c': 3}\n"
     ]
    }
   ],
   "source": [
    "# pop - Takes a single argument corresponding to a key and removes that key-value pair from a dictionary.\n",
    "# Returns the value corresponding to the key that was removed.\n",
    "\n",
    "d = dict(a=1, b=2, c=3)\n",
    "\n",
    "print(d.pop('a'))\n",
    "print(d)\n"
   ]
  },
  {
   "cell_type": "code",
   "execution_count": 25,
   "metadata": {
    "scrolled": true
   },
   "outputs": [
    {
     "name": "stdout",
     "output_type": "stream",
     "text": [
      "('e', 5)\n",
      "{'a': 1, 'b': 2, 'c': 3, 'd': 4}\n"
     ]
    }
   ],
   "source": [
    "# popitem - Removes a random key in a dictionary\n",
    "\n",
    "d = dict(a=1, b=2, c=3, d=4, e=5)\n",
    "\n",
    "print(d.popitem())\n",
    "print(d)"
   ]
  },
  {
   "cell_type": "code",
   "execution_count": 29,
   "metadata": {},
   "outputs": [
    {
     "name": "stdout",
     "output_type": "stream",
     "text": [
      "{'a': 1, 'b': 2, 'c': 3, 'd': 4, 'e': 5}\n"
     ]
    }
   ],
   "source": [
    "# update - Updates keys and values in a dictionary with anaother set of key value pair\n",
    "\n",
    "first = dict(a=1, b=2, c=3, d=4, e=5)\n",
    "second = {}\n",
    "\n",
    "second.update(first)\n",
    "print(second)\n",
    "\n"
   ]
  },
  {
   "cell_type": "code",
   "execution_count": 33,
   "metadata": {},
   "outputs": [
    {
     "name": "stdout",
     "output_type": "stream",
     "text": [
      "{'croissant': 19, 'bagel': 4, 'muffin': 8, 'cookie': 18}\n"
     ]
    }
   ],
   "source": [
    "inventory = {'croissant': 19, 'bagel': 4, 'muffin': 8, 'cake': 1}\n",
    "stock_list = {}\n",
    "\n",
    "stock_list.update(inventory)\n",
    "\n",
    "stock_list['cookie'] = 18\n",
    "stock_list.pop('cake')\n",
    "print(stock_list)\n"
   ]
  },
  {
   "cell_type": "code",
   "execution_count": 34,
   "metadata": {},
   "outputs": [
    {
     "name": "stdout",
     "output_type": "stream",
     "text": [
      "9.75\n"
     ]
    }
   ],
   "source": [
    "# DATA MODELING\n",
    "# spotify playlist\n",
    "\n",
    "playlist = {\n",
    "\t'title': 'patagonia bus', \n",
    "\t'author': 'colt steele', \n",
    "\t'songs': [\n",
    "\t\t{'title': 'song1', 'artist': ['blue'], 'duration': 2.5},\n",
    "\t\t{'title': 'song2', 'artist': ['kitty', 'djcat'], 'duration': 5.25},\n",
    "\t\t{'title': 'meowmeow', 'artist': ['garfield'], 'duration': 2.0}\n",
    "\t]\n",
    "}\n",
    "\n",
    "total_length = 0\n",
    "for song in playlist['songs']:\n",
    "\ttotal_length += song['duration']\n",
    "\n",
    "print(total_length)\n"
   ]
  },
  {
   "cell_type": "code",
   "execution_count": 37,
   "metadata": {},
   "outputs": [
    {
     "name": "stdout",
     "output_type": "stream",
     "text": [
      "{'first': 1, 'second': 4, 'third': 9}\n"
     ]
    }
   ],
   "source": [
    "# Dictionary Comprehension\n",
    "#  THE SYNTAX : {_:_for_in_}\n",
    "# iterte over keys default\n",
    "# iterate over keys and values using .items()\n",
    "\n",
    "numbers = dict(first=1, second=2, third=3)\n",
    "\n",
    "squared_numbers = {key: value** 2 for key,value in numbers.items()}\n",
    "\n",
    "print(squared_numbers)"
   ]
  },
  {
   "cell_type": "code",
   "execution_count": 39,
   "metadata": {},
   "outputs": [
    {
     "name": "stdout",
     "output_type": "stream",
     "text": [
      "{'A': '1', 'B': '2', 'C': '3'}\n"
     ]
    }
   ],
   "source": [
    "str1 = 'ABC'\n",
    "str2 = '123'\n",
    "combo = {str1[i]:str2[i] for i in range(0, len(str1))}\n",
    "print(combo)"
   ]
  },
  {
   "cell_type": "code",
   "execution_count": 41,
   "metadata": {},
   "outputs": [
    {
     "name": "stdout",
     "output_type": "stream",
     "text": [
      "{'NAME': 'COLT', 'CITY': 'SAN FRANSICO', 'COLOR': 'PURPLE'}\n"
     ]
    }
   ],
   "source": [
    "instructor = {'name':'colt', 'city':'san fransico', 'color':'purple'}\n",
    "\n",
    "yelling_instructor = {k.upper():v.upper() for k,v in instructor.items()}\n",
    "\n",
    "print(yelling_instructor)\n"
   ]
  },
  {
   "cell_type": "code",
   "execution_count": 46,
   "metadata": {},
   "outputs": [
    {
     "data": {
      "text/plain": [
       "{1: 'odd', 2: 'even', 3: 'odd', 4: 'even'}"
      ]
     },
     "execution_count": 46,
     "metadata": {},
     "output_type": "execute_result"
    }
   ],
   "source": [
    "# conditional logic with dictionaries\n",
    "\n",
    "num_list = {1, 2, 3, 4}\n",
    "{num:(\"even\" if num % 2 == 0 else \"odd\") for num in num_list} \n"
   ]
  },
  {
   "cell_type": "code",
   "execution_count": 51,
   "metadata": {},
   "outputs": [
    {
     "name": "stdout",
     "output_type": "stream",
     "text": [
      "{'CA': 'California', 'NJ': 'New Jersey', 'RI': 'Rhode Island'}\n"
     ]
    }
   ],
   "source": [
    "# More Examples\n",
    "\n",
    "list1 = [\"CA\", \"NJ\", \"RI\"]\n",
    "list2 = [\"California\", \"New Jersey\", \"Rhode Island\"]\n",
    "\n",
    "answer = {list1[indx]: list2[indx] for indx in range(0,len(list1))} \n",
    "\n",
    "print(answer)"
   ]
  },
  {
   "cell_type": "code",
   "execution_count": 57,
   "metadata": {},
   "outputs": [
    {
     "name": "stdout",
     "output_type": "stream",
     "text": [
      "{'name': 'Jared', 'job': 'Musician', 'city': 'Bern'}\n"
     ]
    }
   ],
   "source": [
    "person = [[\"name\", \"Jared\"], [\"job\", \"Musician\"], [\"city\", \"Bern\"]]\n",
    "\n",
    "# person = [[list1], [list2], [list3]]\n",
    "\n",
    "# answer = {thing[0]: thing[1] for thing in person}\n",
    "\n",
    "# answer = {k:v for k,v in person}\n",
    "\n",
    "answer = dict(person)\n",
    "\n",
    "print(answer)"
   ]
  },
  {
   "cell_type": "code",
   "execution_count": 60,
   "metadata": {},
   "outputs": [
    {
     "name": "stdout",
     "output_type": "stream",
     "text": [
      "{'a': 0, 'e': 0, 'i': 0, 'o': 0, 'u': 0}\n"
     ]
    }
   ],
   "source": [
    "# answer = { char:0 for char in 'aeiou'}\n",
    "\n",
    "answer = dict.fromkeys(\"aeiou\", 0)\n",
    "\n",
    "print(answer)"
   ]
  },
  {
   "cell_type": "code",
   "execution_count": 62,
   "metadata": {},
   "outputs": [
    {
     "name": "stdout",
     "output_type": "stream",
     "text": [
      "{65: 'A', 66: 'B', 67: 'C', 68: 'D', 69: 'E', 70: 'F', 71: 'G', 72: 'H', 73: 'I', 74: 'J', 75: 'K', 76: 'L', 77: 'M', 78: 'N', 79: 'O', 80: 'P', 81: 'Q', 82: 'R', 83: 'S', 84: 'T', 85: 'U', 86: 'V', 87: 'W', 88: 'X', 89: 'Y', 90: 'Z'}\n"
     ]
    }
   ],
   "source": [
    "answer = {count: chr(count) for count in range(65, 91) }\n",
    "\n",
    "print(answer)"
   ]
  },
  {
   "cell_type": "code",
   "execution_count": null,
   "metadata": {},
   "outputs": [],
   "source": [
    "# TUPLES AND SET"
   ]
  },
  {
   "cell_type": "code",
   "execution_count": null,
   "metadata": {},
   "outputs": [],
   "source": [
    "# An Ordered collection or grouping of items!\n",
    "# It is immutable! \n",
    "# Tuples are faster than lists\n",
    "# It makes your code safer\n",
    "# valid keys in dictionary"
   ]
  },
  {
   "cell_type": "code",
   "execution_count": 3,
   "metadata": {},
   "outputs": [
    {
     "data": {
      "text/plain": [
       "tuple"
      ]
     },
     "execution_count": 3,
     "metadata": {},
     "output_type": "execute_result"
    }
   ],
   "source": [
    "alphabet = ('a','b','c','d','e')\n",
    "type(alphabet)"
   ]
  },
  {
   "cell_type": "code",
   "execution_count": 8,
   "metadata": {},
   "outputs": [
    {
     "name": "stdout",
     "output_type": "stream",
     "text": [
      "1\n",
      "3\n"
     ]
    }
   ],
   "source": [
    "# Creating/Accessing\n",
    "# Create using () or tuple function \n",
    "# accessing is just like a list\n",
    "\n",
    "first_tuple = (1, 2, 3, 4, 5)\n",
    "\n",
    "print(first_tuple[0]) # 1\n",
    "print(first_tuple[2]) # 3\n"
   ]
  },
  {
   "cell_type": "code",
   "execution_count": 9,
   "metadata": {},
   "outputs": [
    {
     "name": "stdout",
     "output_type": "stream",
     "text": [
      "Tokyo Office\n"
     ]
    }
   ],
   "source": [
    "# Tuples can be used in dictionaries as a Key\n",
    "\n",
    "locations = { \n",
    "    (35.69, 39.69): \"Tokyo Office\",\n",
    "    (40.71, 74.00): \"New York Office\",\n",
    "    (37.77, 122.41): \"San Francisco\"\n",
    "}\n",
    "\n",
    "print(locations[(35.69, 39.69)])\n"
   ]
  },
  {
   "cell_type": "code",
   "execution_count": 11,
   "metadata": {},
   "outputs": [
    {
     "name": "stdout",
     "output_type": "stream",
     "text": [
      "1\n",
      "2\n",
      "3\n",
      "4\n",
      "5\n"
     ]
    }
   ],
   "source": [
    "# Tuples looping methods \n",
    "\n",
    "first_tuple = (1, 2, 3, 4, 5)\n",
    "\n",
    "for nums in first_tuple:\n",
    "    print(nums)       "
   ]
  },
  {
   "cell_type": "code",
   "execution_count": 12,
   "metadata": {},
   "outputs": [
    {
     "name": "stdout",
     "output_type": "stream",
     "text": [
      "3\n"
     ]
    }
   ],
   "source": [
    "# Index\n",
    "\n",
    "first_tuple = (1, 2, 3, 4, 5)\n",
    "\n",
    "print(first_tuple[2])"
   ]
  },
  {
   "cell_type": "code",
   "execution_count": 22,
   "metadata": {},
   "outputs": [
    {
     "name": "stdout",
     "output_type": "stream",
     "text": [
      "(4, 5)\n",
      "(1, 2, 3, (4, 5))\n",
      "(1, 3)\n"
     ]
    }
   ],
   "source": [
    "# nested tuples\n",
    "\n",
    "nums = (1, 2, 3, (4, 5), 6, 7)\n",
    "\n",
    "print(nums[3])\n",
    "\n",
    "print(nums[0:4]) # \n",
    "\n",
    "print(nums[0:4:2]) # slicing"
   ]
  },
  {
   "cell_type": "code",
   "execution_count": null,
   "metadata": {},
   "outputs": [],
   "source": [
    "# SETS\n",
    "# Sets are like formal mathematical sets\n",
    "# Sets do not have duplicate values\n",
    "# Elements in sets aren't ordered\n",
    "# You can access items in the sets by index\n",
    "# Elements, but don't care about ordering, keys or values and duplicates"
   ]
  },
  {
   "cell_type": "code",
   "execution_count": 24,
   "metadata": {},
   "outputs": [
    {
     "name": "stdout",
     "output_type": "stream",
     "text": [
      "{1, 4, 5}\n"
     ]
    }
   ],
   "source": [
    "a = {1, 4, 5, 4, 5}\n",
    "\n",
    "print(a)"
   ]
  },
  {
   "cell_type": "code",
   "execution_count": 28,
   "metadata": {},
   "outputs": [
    {
     "name": "stdout",
     "output_type": "stream",
     "text": [
      "1\n",
      "4\n",
      "5\n",
      "a\n",
      "23.333\n",
      "b\n"
     ]
    }
   ],
   "source": [
    "s = {1, 4, 5, 'a', 'b', 23.333}\n",
    "\n",
    "for thing in s:\n",
    "    print(thing)"
   ]
  },
  {
   "cell_type": "code",
   "execution_count": 36,
   "metadata": {},
   "outputs": [
    {
     "name": "stdout",
     "output_type": "stream",
     "text": [
      "{1, 2, 3, 'Vancuver'}\n",
      "{2, 3, 'Vancuver'}\n",
      "{2, 3, 'Vancuver'}\n",
      "set()\n"
     ]
    }
   ],
   "source": [
    "# sets methods\n",
    "# add\n",
    "\n",
    "a = set([1, 2, 3])\n",
    "\n",
    "a.add('Vancuver')\n",
    "print(a)\n",
    "\n",
    "a.remove(1)\n",
    "print(a)\n",
    "\n",
    "s = a.copy()\n",
    "print(s)\n",
    "\n",
    "s.clear()\n",
    "print(s)"
   ]
  },
  {
   "cell_type": "code",
   "execution_count": 40,
   "metadata": {},
   "outputs": [
    {
     "name": "stdout",
     "output_type": "stream",
     "text": [
      "{'Yogesh', 'Jyoti', 'Nilesh', 'Mohit', 'Surabhi', 'kishor', 'Swapnil'}\n",
      "{'Jyoti', 'Surabhi'}\n"
     ]
    }
   ],
   "source": [
    "# set math\n",
    "\n",
    "math_student = {'Swapnil','Nilesh','Surabhi', 'Jyoti'}\n",
    "bio_student = {'Mohit', 'Yogesh', 'kishor', 'Surabhi', 'Jyoti' }\n",
    "\n",
    "print(math_student | bio_student) # Union\n",
    "\n",
    "print(math_student & bio_student) "
   ]
  }
 ],
 "metadata": {
  "kernelspec": {
   "display_name": "Python 3",
   "language": "python",
   "name": "python3"
  },
  "language_info": {
   "codemirror_mode": {
    "name": "ipython",
    "version": 3
   },
   "file_extension": ".py",
   "mimetype": "text/x-python",
   "name": "python",
   "nbconvert_exporter": "python",
   "pygments_lexer": "ipython3",
   "version": "3.7.3"
  }
 },
 "nbformat": 4,
 "nbformat_minor": 2
}
