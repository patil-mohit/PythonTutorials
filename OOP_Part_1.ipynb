{
 "cells": [
  {
   "cell_type": "code",
   "execution_count": null,
   "metadata": {},
   "outputs": [],
   "source": [
    "# What is OOP?\n",
    "\n",
    "# Object oriented programming is a method of programming that attempts to model some process or thing in the world as a class or object.\n",
    "\n",
    "# class - a blueprint for objects. Classes can contain methods (functions) and attributes (similar to keys in a dict).\n",
    "\n",
    "#instance - objects that are constructed from a class blueprint that contain their class's methods and properties."
   ]
  },
  {
   "cell_type": "code",
   "execution_count": null,
   "metadata": {},
   "outputs": [],
   "source": [
    "# Abstraction and Encapsulation"
   ]
  },
  {
   "cell_type": "code",
   "execution_count": null,
   "metadata": {},
   "outputs": [],
   "source": [
    "# Why OOP?\n",
    "\n",
    "# With object oriented programming, the goal is to encapsulate your code into logical, hierarchical groupings using classes so that you can reason about your code at a higher level."
   ]
  },
  {
   "cell_type": "code",
   "execution_count": null,
   "metadata": {},
   "outputs": [],
   "source": [
    "# Encapsulation\n",
    "\n",
    "# Encapsulation - the grouping of public and private attributes and methods into a programmatic class, making abstraction possible\n",
    "\n",
    "# Designing the Deck class, I make cards a private attribute (a list)\n",
    "# I decide that the length of the cards should be accessed via a public method called count() -- i.e. Deck.count()"
   ]
  },
  {
   "cell_type": "code",
   "execution_count": null,
   "metadata": {},
   "outputs": [],
   "source": [
    "# Abstraction\n",
    "\n",
    "# Abstraction - exposing only \"relevant\" data in a class interface, hiding private attributes and methods (aka the \"inner workings\") from users\n",
    "\n",
    "# As a user of the Deck class, I never call len(Deck.cards), only Deck.count() because Deck.cards is \"abstracted away\" for me."
   ]
  },
  {
   "cell_type": "code",
   "execution_count": 8,
   "metadata": {},
   "outputs": [
    {
     "name": "stdout",
     "output_type": "stream",
     "text": [
      "27\n"
     ]
    }
   ],
   "source": [
    "class User:\n",
    "    def __init__(self, first_name, last_name, age):\n",
    "        self.first_name = first_name\n",
    "        self.last_name = last_name\n",
    "        self.age = age\n",
    "        \n",
    "user1 = User('Mohit','Patil', 27)  \n",
    "print(user1.age)"
   ]
  },
  {
   "cell_type": "code",
   "execution_count": null,
   "metadata": {},
   "outputs": [],
   "source": [
    "# self refers the current instance of the class"
   ]
  },
  {
   "cell_type": "code",
   "execution_count": 1,
   "metadata": {},
   "outputs": [
    {
     "name": "stdout",
     "output_type": "stream",
     "text": [
      "Tony\n",
      "hi!\n",
      "['_Person__lol', '_Person__msg', '__class__', '__delattr__', '__dict__', '__dir__', '__doc__', '__eq__', '__format__', '__ge__', '__getattribute__', '__gt__', '__hash__', '__init__', '__init_subclass__', '__le__', '__lt__', '__module__', '__ne__', '__new__', '__reduce__', '__reduce_ex__', '__repr__', '__setattr__', '__sizeof__', '__str__', '__subclasshook__', '__weakref__', '_secret', 'name']\n",
      "I like turtles!\n",
      "HAHAHAHAH\n"
     ]
    }
   ],
   "source": [
    "# dunder methods, private method and mangled name\n",
    "# _name\n",
    "# __name\n",
    "# __name__\n",
    "\n",
    "\n",
    "class Person:\n",
    "\t# Init is a \"dunder\" method\n",
    "    def __init__(self):\n",
    "        self.name = \"Tony\"\n",
    "        # single underscore means \"private\" (sort of)\n",
    "        self._secret = \"hi!\"\n",
    "        # two leading underscores tells Python to \"mangle\" the name\n",
    "        self.__msg = \"I like turtles!\"\n",
    "        self.__lol = \"HAHAHAHAH\"\n",
    "\n",
    "\n",
    "p = Person()\n",
    "\n",
    "print(p.name)\n",
    "print(p._secret) #Anyone can still directly access the attribute\n",
    "\n",
    "print(dir(p)) # Notice what __msg and __lol have been \"mangled\" to\n",
    "\n",
    "print(p._Person__msg)\n",
    "print(p._Person__lol)\n"
   ]
  },
  {
   "cell_type": "code",
   "execution_count": 15,
   "metadata": {},
   "outputs": [
    {
     "data": {
      "text/plain": [
       "'Happy 28th Mohit'"
      ]
     },
     "execution_count": 15,
     "metadata": {},
     "output_type": "execute_result"
    }
   ],
   "source": [
    "class User:\n",
    "    def __init__(self, first_name, last_name, age):\n",
    "        self.first = first_name\n",
    "        self.last = last_name\n",
    "        self.age = age\n",
    "        \n",
    "    def full_name(self):\n",
    "        return f\"{self.first} {self.last}\"\n",
    "    \n",
    "    def initials(self):\n",
    "        return f\"{self.first[0]}.{self.last[0]}\"\n",
    "    \n",
    "    def likes(self, thing):\n",
    "        return f\"{self.first} likes {thing}\"\n",
    "    \n",
    "    def is_senior(self):\n",
    "        return self.age >= 65\n",
    "    \n",
    "    def birthday(self):\n",
    "        self.age += 1\n",
    "        return f\"Happy {self.age}th {self.first}\"\n",
    "    \n",
    "user1 = User('Mohit','Patil', 27)\n",
    "user1.full_name() #'Mohit Patil'\n",
    "user1.initials() # 'M.P'\n",
    "user1.likes('coding') # 'Mohit likes coding'\n",
    "user1.is_senior() # False\n",
    "user1.birthday() #'Happy 28th Mohit'"
   ]
  },
  {
   "cell_type": "code",
   "execution_count": 21,
   "metadata": {},
   "outputs": [
    {
     "name": "stdout",
     "output_type": "stream",
     "text": [
      "0\n",
      "-300\n"
     ]
    }
   ],
   "source": [
    "class BankAccount:\n",
    "    def __init__(self, name):\n",
    "        self.owner = name\n",
    "        self.balance = 0\n",
    "        \n",
    "    def getBalance(self):\n",
    "        return self.balance\n",
    "    \n",
    "    def withdraw(self, amount):\n",
    "        self.balance -= amount\n",
    "        return self.balance\n",
    "\n",
    "user = BankAccount('Mohit')\n",
    "print(user.getBalance())\n",
    "print(user.withdraw(300))"
   ]
  },
  {
   "cell_type": "code",
   "execution_count": null,
   "metadata": {},
   "outputs": [],
   "source": [
    "# Class Attributes\n",
    "# We can also define attributes directly on a class that are shared by all instances of a class and the class itself"
   ]
  },
  {
   "cell_type": "code",
   "execution_count": 22,
   "metadata": {},
   "outputs": [
    {
     "name": "stdout",
     "output_type": "stream",
     "text": [
      "0\n",
      "2\n",
      "Blanca has logged out\n",
      "1\n"
     ]
    }
   ],
   "source": [
    "# A User class with both a class attribute\n",
    "class User:\n",
    "    \n",
    "\tactive_users = 0\n",
    "\n",
    "\tdef __init__(self, first, last, age):\n",
    "\t\tself.first = first\n",
    "\t\tself.last = last\n",
    "\t\tself.age = age\n",
    "\t\tUser.active_users += 1\n",
    "\n",
    "\tdef logout(self):\n",
    "\t\tUser.active_users -= 1\n",
    "\t\treturn f\"{self.first} has logged out\"\n",
    "\n",
    "\tdef full_name(self):\n",
    "\t\treturn f\"{self.first} {self.last}\"\n",
    "\n",
    "\tdef initials(self):\n",
    "\t\treturn f\"{self.first[0]}.{self.last[0]}.\"\n",
    "\n",
    "\tdef likes(self, thing):\n",
    "\t\treturn f\"{self.first} likes {thing}\"\n",
    "\n",
    "\tdef is_senior(self):\n",
    "\t\treturn self.age >= 65\n",
    "\n",
    "\tdef birthday(self):\n",
    "\t\tself.age += 1\n",
    "\t\treturn f\"Happy {self.age}th, {self.first}\"\n",
    "\n",
    "# print(user1.likes(\"Ice Cream\"))\n",
    "# print(user2.likes(\"Chips\"))\n",
    "\n",
    "# print(user2.initials())\n",
    "# print(user1.initials())\n",
    "\n",
    "# print(user2.is_senior())\n",
    "# print(user1.age)\n",
    "# print(user1.birthday())\n",
    "# print(user1.age)\n",
    "# user1.say_hi()\n",
    "\n",
    "print(User.active_users)\n",
    "user1 = User(\"Joe\", \"Smith\", 68)\n",
    "user2 = User(\"Blanca\", \"Lopez\", 41)\n",
    "print(User.active_users)\n",
    "print(user2.logout())\n",
    "print(User.active_users)"
   ]
  },
  {
   "cell_type": "code",
   "execution_count": 41,
   "metadata": {},
   "outputs": [
    {
     "data": {
      "text/plain": [
       "['cat', 'dog', 'fish', 'rat']"
      ]
     },
     "execution_count": 41,
     "metadata": {},
     "output_type": "execute_result"
    }
   ],
   "source": [
    "class Pet:\n",
    "    allowed = ['cat','dog','fish','rat']\n",
    "    \n",
    "    def __init__(self, name, species):\n",
    "        if species not in Pet.allowed:\n",
    "            raise ValueError(f\"You can't have a {species} pet !\")\n",
    "        self.name = name\n",
    "        self.species = species\n",
    "        \n",
    "cat = Pet('Blue','dog')\n",
    "\n",
    "cat.allowed\n"
   ]
  },
  {
   "cell_type": "code",
   "execution_count": 62,
   "metadata": {},
   "outputs": [
    {
     "name": "stdout",
     "output_type": "stream",
     "text": [
      "dog\n",
      "rat\n",
      "['cat', 'dog', 'fish', 'rat', 'cow']\n",
      "cow\n"
     ]
    }
   ],
   "source": [
    "# class attribute no longer exists\n",
    "class Pet:      \n",
    "    allowed = ['cat','dog','fish','rat']\n",
    "    \n",
    "    def __init__(self, name, species):\n",
    "        if species not in Pet.allowed:\n",
    "            raise ValueError(f\"You can't have a {species} pet !\")\n",
    "        self.name = name\n",
    "        self.species = species\n",
    "       \n",
    "    def set_species(self, species):\n",
    "        allowed = ['cat','dog','fish','rat']\n",
    "        if species not in Pet.allowed:\n",
    "            raise ValueError(f\"You can't have a {species} pet !\")\n",
    "        self.species = species\n",
    "        \n",
    "dog = Pet('Blue','dog')\n",
    "\n",
    "print(dog.species)\n",
    "\n",
    "# dog.set_species('Tiger') # thorwos exception\n",
    "dog.set_species('rat')\n",
    "print(dog.species)\n",
    "\n",
    "Pet.allowed.append('cow')\n",
    "print(Pet.allowed)\n",
    "\n",
    "dog.set_species('cow')\n",
    "print(dog.species)"
   ]
  },
  {
   "cell_type": "code",
   "execution_count": null,
   "metadata": {},
   "outputs": [],
   "source": [
    "# Class attributes :\n",
    "# We can also define attributes directly on a class that are shared by all instances of a class and the class itself"
   ]
  },
  {
   "cell_type": "code",
   "execution_count": null,
   "metadata": {},
   "outputs": [],
   "source": [
    "# Class methods are the methods (with the @ classmethod director) that are not concerned with instances, but the class ityself"
   ]
  },
  {
   "cell_type": "code",
   "execution_count": 72,
   "metadata": {},
   "outputs": [
    {
     "name": "stdout",
     "output_type": "stream",
     "text": [
      "9 of Hearts\n",
      "[Q of Spades]\n"
     ]
    }
   ],
   "source": [
    "from random import shuffle\n",
    "# Each instance of Card  should have a suit (\"Hearts\", \"Diamonds\", \"Clubs\", or \"Spades\").\n",
    "# Each instance of Card  should have a value (\"A\", \"2\", \"3\", \"4\", \"5\", \"6\", \"7\", \"8\", \"9\", \"10\", \"J\", \"Q\", \"K\").\n",
    "# Card 's __repr__  method should display the card's value and suit (e.g. \"A of Clubs\", \"J of Diamonds\", etc.)\n",
    "\n",
    "\n",
    "class Card:\n",
    "\tdef __init__(self, value, suit):\n",
    "\t\tself.value = value\n",
    "\t\tself.suit = suit\n",
    "\n",
    "\tdef __repr__(self):\n",
    "\t\t# return \"{} of {}\".format(self.value, self.suit)\n",
    "\t\treturn f\"{self.value} of {self.suit}\"\n",
    "\n",
    "# Each instance of Deck  should have a cards attribute with all 52 possible instances of Card .\n",
    "# Deck  should have an instance method called count  which returns a count of how many cards remain in the deck.\n",
    "# Deck 's __repr__  method should display information on how many cards are in the deck (e.g. \"Deck of 52 cards\", \"Deck of 12 cards\", etc.)\n",
    "# Deck  should have an instance method called _deal  which accepts a number and removes at most that many cards from the deck (it may need to remove fewer if you request more cards than are currently in the deck!). If there are no cards left, this method should return a ValueError  with the message \"All cards have been dealt\".\n",
    "# Deck  should have an instance method called shuffle  which will shuffle a full deck of cards. If there are cards missing from the deck, this method should return a ValueError  with the message \"Only full decks can be shuffled\".\n",
    "# Deck  should have an instance method called deal_card  which uses the _deal  method to deal a single card from the deck.\n",
    "# Deck  should have an instance method called deal_hand  which accepts a number and uses the _deal  method to deal a list of cards from the deck.\n",
    "\n",
    "class Deck:\n",
    "\tdef __init__(self):\n",
    "\t\tsuits = [\"Hearts\", \"Diamonds\", \"Clubs\", \"Spades\"]\n",
    "\t\tvalues = ['A','2','3','4','5','6','7','8','9','10','J','Q','K']\n",
    "\t\tself.cards = [Card(value, suit) for suit in suits for value in values]\n",
    "\n",
    "\tdef __repr__(self):\n",
    "\t\treturn f\"Deck of {self.count()} cards\"\n",
    "\n",
    "\tdef count(self):\n",
    "\t\treturn len(self.cards)\n",
    "\n",
    "\tdef _deal(self, num):\n",
    "\t\tcount = self.count()\n",
    "\t\tactual = min([count,num])\n",
    "\t\tif count == 0:\n",
    "\t\t\traise ValueError(\"All cards have been dealt\")\n",
    "\t\tcards = self.cards[-actual:]\n",
    "\t\tself.cards = self.cards[:-actual]\n",
    "\t\treturn cards\n",
    "\n",
    "\tdef deal_card(self):\n",
    "\t\treturn self._deal(1)[0]\n",
    "\n",
    "\tdef deal_hand(self, hand_size):\n",
    "\t\treturn self._deal(hand_size)\n",
    "\n",
    "\tdef shuffle(self):\n",
    "\t\tif self.count() < 52:\n",
    "\t\t\traise ValueError(\"Only full decks can be shuffled\")\n",
    "\n",
    "\t\tshuffle(self.cards)\n",
    "\t\treturn self\n",
    "\n",
    "\n",
    "d = Deck()\n",
    "d.shuffle()\n",
    "#card = d.deal_card()\n",
    "#print(card)\n",
    "hand = d.deal_hand(50)\n",
    "card2 = d.deal_card()\n",
    "print(card2)\n",
    "print(d.cards)\n",
    "card2 = d.deal_card()\n",
    "\n",
    "# print(d.cards)\n"
   ]
  }
 ],
 "metadata": {
  "kernelspec": {
   "display_name": "xpython",
   "language": "python",
   "name": "xpython"
  },
  "language_info": {
   "file_extension": ".py",
   "mimetype": "text/x-python",
   "name": "python",
   "version": "3.7.6"
  }
 },
 "nbformat": 4,
 "nbformat_minor": 4
}
