{
 "cells": [
  {
   "cell_type": "code",
   "execution_count": null,
   "metadata": {},
   "outputs": [],
   "source": [
    "# Inheritance"
   ]
  },
  {
   "cell_type": "code",
   "execution_count": null,
   "metadata": {},
   "outputs": [],
   "source": [
    "# A key feature of OOP is the ability to define a class which inherits fro another class(a \"base\" or \"parent class\")\n",
    "# In python, inheritance works by passing the parent class as an argument to the definition of a child class."
   ]
  },
  {
   "cell_type": "code",
   "execution_count": 17,
   "metadata": {},
   "outputs": [
    {
     "name": "stdout",
     "output_type": "stream",
     "text": [
      "this animal says Mewwww\n",
      "True\n",
      "True\n",
      "True\n",
      "this animal says Timepass\n"
     ]
    }
   ],
   "source": [
    "class Animal:\n",
    "    cool = True # This is class attribute\n",
    "    \n",
    "    def make_sound(self, sound):\n",
    "        print(f\"this animal says {sound}\")\n",
    "        \n",
    "class Cat(Animal):\n",
    "    pass\n",
    "\n",
    "blue = Cat()\n",
    "blue.make_sound(\"Mewwww\")\n",
    "\n",
    "print(blue.cool)\n",
    "print(Cat.cool)\n",
    "print(Animal.cool)\n",
    "\n",
    "b = Animal()\n",
    "b.make_sound(\"Timepass\")\n"
   ]
  },
  {
   "cell_type": "code",
   "execution_count": null,
   "metadata": {},
   "outputs": [],
   "source": [
    "# All about @property"
   ]
  },
  {
   "cell_type": "code",
   "execution_count": 45,
   "metadata": {},
   "outputs": [
    {
     "name": "stdout",
     "output_type": "stream",
     "text": [
      "12\n",
      "90\n"
     ]
    }
   ],
   "source": [
    "class Human:\n",
    "    def __init__(self, first, last, age):\n",
    "        self.first = first\n",
    "        self.last = last\n",
    "        if age >= 0:\n",
    "            self._age = age\n",
    "        else:\n",
    "            self._age = 0 \n",
    "    \"\"\"\n",
    "    def get_age(self):\n",
    "        return self._age\n",
    "    def set_age(self, new_age):\n",
    "        if new_age <= 0:\n",
    "            raise ValueError(\"Please enter the valid the age !\")    \n",
    "        self._age = new_age\n",
    "    \"\"\"\n",
    "    @property\n",
    "    def age(self):\n",
    "        return self._age\n",
    "    @age.setter\n",
    "    def age(self, value):\n",
    "        if value >= 0:\n",
    "            self._age = value\n",
    "        else:\n",
    "            raise ValueError(\"age cann't be negative !\")     \n",
    "    \n",
    "jane = Human(\"Jane\", \"Goodall\", 12)  \n",
    "print(jane.age)\n",
    "\n",
    "jane.age = 90\n",
    "print(jane.age)\n"
   ]
  },
  {
   "cell_type": "code",
   "execution_count": 47,
   "metadata": {},
   "outputs": [
    {
     "name": "stdout",
     "output_type": "stream",
     "text": [
      "Blues is Cat\n"
     ]
    }
   ],
   "source": [
    "class Animal:\n",
    "    \n",
    "    def __init__(self, name, species):\n",
    "        self.name = name\n",
    "        self.species = species\n",
    "     \n",
    "    def __repr__(self):\n",
    "        return f\"{self.name} is {self.species}\"\n",
    "    \n",
    "    def make_sound(self, sound):\n",
    "        print(f\"This animal says {sound}\")\n",
    "        \n",
    "class Cat(Animal):\n",
    "    def __init__(self, name, species, breed, toy):\n",
    "        self.name = name # reduntant  code\n",
    "        self.species = species  # reduntant  code\n",
    "        self.breed = breed\n",
    "        self.toy = toy    \n",
    "\n",
    "blue = Cat(\"Blues\", \"Cat\", \"Scottish Fold\", \"Mice\")\n",
    "print(blue)"
   ]
  },
  {
   "cell_type": "code",
   "execution_count": null,
   "metadata": {},
   "outputs": [],
   "source": [
    "# Super()"
   ]
  },
  {
   "cell_type": "code",
   "execution_count": 57,
   "metadata": {},
   "outputs": [
    {
     "name": "stdout",
     "output_type": "stream",
     "text": [
      "Blues is Cat\n",
      "Blues plays with Mice\n"
     ]
    }
   ],
   "source": [
    "class Animal:\n",
    "    \n",
    "    def __init__(self, name, species):\n",
    "        self.name = name\n",
    "        self.species = species\n",
    "     \n",
    "    def __repr__(self):\n",
    "        return f\"{self.name} is {self.species}\"\n",
    "    \n",
    "    def make_sound(self, sound):\n",
    "        print(f\"This animal says {sound}\")\n",
    "        \n",
    "class Cat(Animal):\n",
    "    def __init__(self, name, species, breed, toy):\n",
    "        super().__init__(name, species)\n",
    "    # Animal.__init__(self, name, species)  still it works fine\n",
    "        self.breed = breed\n",
    "        self.toy = toy    \n",
    "    \n",
    "    def play(self):\n",
    "        print(f\"{self.name} plays with {self.toy}\")\n",
    "        \n",
    "blue = Cat(\"Blues\", \"Cat\", \"Scottish Fold\", \"Mice\")\n",
    "print(blue)\n",
    "blue.play()"
   ]
  },
  {
   "cell_type": "code",
   "execution_count": null,
   "metadata": {},
   "outputs": [],
   "source": [
    "# Polymorphism"
   ]
  },
  {
   "cell_type": "code",
   "execution_count": 1,
   "metadata": {},
   "outputs": [
    {
     "name": "stdout",
     "output_type": "stream",
     "text": [
      "AQUATIC INIT!\n",
      "AMBULATORY INIT!\n",
      "PENGUIN INIT!\n",
      "AMBULATORY INIT!\n",
      "Captain Cook is swimming\n",
      "Captain Cook is walking\n",
      "I am Captain Cook of the land!\n",
      "captain_cook is instance of Penguin: True\n",
      "captain_cook is instance of Aquatic: True\n",
      "captain_cook is instance of Ambulatory: True\n"
     ]
    }
   ],
   "source": [
    "class Aquatic:\n",
    "  def __init__(self,name):\n",
    "    print(\"AQUATIC INIT!\")\n",
    "    self.name = name\n",
    "\n",
    "  def swim(self):\n",
    "    return f\"{self.name} is swimming\"\n",
    "\n",
    "  def greet(self):\n",
    "    return f\"I am {self.name} of the sea!\"\n",
    "\n",
    "\n",
    "\n",
    "class Ambulatory:\n",
    "  def __init__(self,name):\n",
    "    print(\"AMBULATORY INIT!\")\n",
    "    self.name = name\n",
    "\n",
    "  def walk(self):\n",
    "    return f\"{self.name} is walking\"\n",
    "\n",
    "  def greet(self):\n",
    "    return f\"I am {self.name} of the land!\"\n",
    "\n",
    "\n",
    "class Penguin(Ambulatory, Aquatic):\n",
    "  def __init__(self,name):\n",
    "    print(\"PENGUIN INIT!\")\n",
    "    super().__init__(name=name)\n",
    "    # Ambulatory.__init__(self,name=name)\n",
    "    # Aquatic.__init__(self, name=name)\n",
    "\n",
    "    \n",
    "jaws = Aquatic(\"Jaws\")\n",
    "lassie = Ambulatory(\"Lassie\")\n",
    "captain_cook = Penguin(\"Captain Cook\")\n",
    "\n",
    "print(captain_cook.swim())\n",
    "print(captain_cook.walk())\n",
    "print(captain_cook.greet())\n",
    "\n",
    "print(f\"captain_cook is instance of Penguin: {isinstance(captain_cook, Penguin)}\")\n",
    "print(f\"captain_cook is instance of Aquatic: {isinstance(captain_cook, Aquatic)}\")\n",
    "print(f\"captain_cook is instance of Ambulatory: {isinstance(captain_cook, Ambulatory)}\")\n",
    "\n",
    "# jaws.swim() # 'Jaws is swimming'\n",
    "# jaws.walk() # AttributeError: 'Aquatic' object has no attribute 'walk'\n",
    "# jaws.greet() # 'I am Jaws of the sea!'\n",
    "\n",
    "# lassie.swim() # AttributeError: 'Ambulatory' object has no attribute 'swim'\n",
    "# lassie.walk() # 'Lassie is walking'\n",
    "# lassie.greet() # 'I am Lassie of the land!'\n",
    "\n",
    "# captain_cook.swim() # 'Captain Cook is swimming'\n",
    "# captain_cook.walk() # 'Captain Cook is walking'\n",
    "# captain_cook.greet() # ??\n"
   ]
  },
  {
   "cell_type": "code",
   "execution_count": null,
   "metadata": {},
   "outputs": [],
   "source": [
    "# Polymorphism"
   ]
  },
  {
   "cell_type": "code",
   "execution_count": null,
   "metadata": {},
   "outputs": [],
   "source": [
    "# A key priciple in OOP is the idea of polymorphism - an object can take on many (poly) forms (morphs)"
   ]
  },
  {
   "cell_type": "code",
   "execution_count": null,
   "metadata": {},
   "outputs": [],
   "source": [
    "# while formal definition is more difficult, here are two important practical applications:\n",
    "# 1 . The same class method works in a similar way for different way\n",
    "# Example - Cat.spaek() # meow\n",
    "#           Dog.speak() # woof\n",
    "# 2. Same operation works for different kinds of objects \n"
   ]
  },
  {
   "cell_type": "code",
   "execution_count": null,
   "metadata": {},
   "outputs": [],
   "source": [
    "# A same class method works same way for differnt classes\n",
    "# A common implementation of this it to have a method in base(or parent) class that is overriden by subclass. This is called overriding"
   ]
  },
  {
   "cell_type": "code",
   "execution_count": 3,
   "metadata": {},
   "outputs": [
    {
     "name": "stdout",
     "output_type": "stream",
     "text": [
      "woof\n"
     ]
    },
    {
     "ename": "NameError",
     "evalue": "name 'NoImplementedError' is not defined",
     "output_type": "error",
     "traceback": [
      "\u001b[0;31m---------------------------------------------------------------------------\u001b[0m\n\u001b[0;31mNameError\u001b[0m                                 Traceback (most recent call last)",
      "In  \u001b[0;34m[3]\u001b[0m:\nLine \u001b[0;34m21\u001b[0m:    \u001b[36mprint\u001b[39;49;00m(f.speak())\n",
      "In  \u001b[0;34m[3]\u001b[0m:\nLine \u001b[0;34m3\u001b[0m:     \u001b[34mraise\u001b[39;49;00m NoImplementedError(\u001b[33m\"\u001b[39;49;00m\u001b[33mSubclass needs to implement this method\u001b[39;49;00m\u001b[33m\"\u001b[39;49;00m)\n",
      "\u001b[0;31mNameError\u001b[0m: name 'NoImplementedError' is not defined\n\u001b[0;31m---------------------------------------------------------------------------\u001b[0m"
     ]
    }
   ],
   "source": [
    "class Animal():\n",
    "    def speak(self):\n",
    "        raise NoImplementedError(\"Subclass needs to implement this method\")\n",
    "\n",
    "class Dog(Animal):\n",
    "    def speak(self):\n",
    "        return \"woof\"\n",
    "    \n",
    "class Cat(Animal):\n",
    "    def speak(self):\n",
    "        return \"meow\"\n",
    "    \n",
    "class Fish(Animal):\n",
    "    pass\n",
    "\n",
    "\n",
    "d = Dog()\n",
    "print(d.speak())\n",
    "\n",
    "f = Fish()\n",
    "print(f.speak())"
   ]
  }
 ],
 "metadata": {
  "kernelspec": {
   "display_name": "xpython",
   "language": "python",
   "name": "xpython"
  },
  "language_info": {
   "file_extension": ".py",
   "mimetype": "text/x-python",
   "name": "python",
   "version": "3.7.6"
  }
 },
 "nbformat": 4,
 "nbformat_minor": 4
}
